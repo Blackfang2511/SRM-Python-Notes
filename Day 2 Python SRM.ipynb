{
 "cells": [
  {
   "cell_type": "markdown",
   "id": "dcbd88b2",
   "metadata": {},
   "source": [
    "## String Functions"
   ]
  },
  {
   "cell_type": "code",
   "execution_count": 1,
   "id": "fe8d90b1",
   "metadata": {},
   "outputs": [],
   "source": [
    "text = \"an APPLE a Day\""
   ]
  },
  {
   "cell_type": "code",
   "execution_count": 2,
   "id": "26584afb",
   "metadata": {},
   "outputs": [
    {
     "data": {
      "text/plain": [
       "'an apple a day'"
      ]
     },
     "execution_count": 2,
     "metadata": {},
     "output_type": "execute_result"
    }
   ],
   "source": [
    "text.lower()"
   ]
  },
  {
   "cell_type": "code",
   "execution_count": 3,
   "id": "3816de4b",
   "metadata": {},
   "outputs": [
    {
     "data": {
      "text/plain": [
       "'an APPLE a Day'"
      ]
     },
     "execution_count": 3,
     "metadata": {},
     "output_type": "execute_result"
    }
   ],
   "source": [
    "text"
   ]
  },
  {
   "cell_type": "code",
   "execution_count": 4,
   "id": "11c53c4a",
   "metadata": {},
   "outputs": [
    {
     "name": "stdout",
     "output_type": "stream",
     "text": [
      "an APPLE a Day\n"
     ]
    }
   ],
   "source": [
    "p_text = print(text)"
   ]
  },
  {
   "cell_type": "code",
   "execution_count": 6,
   "id": "b8cdcb4a",
   "metadata": {},
   "outputs": [
    {
     "name": "stdout",
     "output_type": "stream",
     "text": [
      "None\n"
     ]
    }
   ],
   "source": [
    "print(p_text)"
   ]
  },
  {
   "cell_type": "code",
   "execution_count": 7,
   "id": "d5260a5a",
   "metadata": {},
   "outputs": [
    {
     "data": {
      "text/plain": [
       "'An apple a day'"
      ]
     },
     "execution_count": 7,
     "metadata": {},
     "output_type": "execute_result"
    }
   ],
   "source": [
    "text.capitalize()"
   ]
  },
  {
   "cell_type": "code",
   "execution_count": 8,
   "id": "adcb13ea",
   "metadata": {},
   "outputs": [
    {
     "data": {
      "text/plain": [
       "'AN APPLE A DAY'"
      ]
     },
     "execution_count": 8,
     "metadata": {},
     "output_type": "execute_result"
    }
   ],
   "source": [
    "text.upper()"
   ]
  },
  {
   "cell_type": "code",
   "execution_count": 9,
   "id": "468ab227",
   "metadata": {},
   "outputs": [
    {
     "data": {
      "text/plain": [
       "'An Apple A Day'"
      ]
     },
     "execution_count": 9,
     "metadata": {},
     "output_type": "execute_result"
    }
   ],
   "source": [
    "text.title()"
   ]
  },
  {
   "cell_type": "code",
   "execution_count": 12,
   "id": "bed08d72",
   "metadata": {},
   "outputs": [
    {
     "data": {
      "text/plain": [
       "['an', 'APPLE', 'a', 'Day']"
      ]
     },
     "execution_count": 12,
     "metadata": {},
     "output_type": "execute_result"
    }
   ],
   "source": [
    "text.split()"
   ]
  },
  {
   "cell_type": "code",
   "execution_count": 13,
   "id": "ffe9e614",
   "metadata": {},
   "outputs": [],
   "source": [
    "fruits = \"Apple\"\n",
    "items = \"pencil\"\n",
    "product =\"RADIO\""
   ]
  },
  {
   "cell_type": "code",
   "execution_count": 14,
   "id": "620949d2",
   "metadata": {},
   "outputs": [
    {
     "data": {
      "text/plain": [
       "False"
      ]
     },
     "execution_count": 14,
     "metadata": {},
     "output_type": "execute_result"
    }
   ],
   "source": [
    "fruits.islower()"
   ]
  },
  {
   "cell_type": "code",
   "execution_count": 15,
   "id": "f815ce65",
   "metadata": {},
   "outputs": [
    {
     "data": {
      "text/plain": [
       "True"
      ]
     },
     "execution_count": 15,
     "metadata": {},
     "output_type": "execute_result"
    }
   ],
   "source": [
    "items.islower()"
   ]
  },
  {
   "cell_type": "code",
   "execution_count": 16,
   "id": "8ccbcb22",
   "metadata": {},
   "outputs": [
    {
     "data": {
      "text/plain": [
       "False"
      ]
     },
     "execution_count": 16,
     "metadata": {},
     "output_type": "execute_result"
    }
   ],
   "source": [
    "items.isupper()"
   ]
  },
  {
   "cell_type": "code",
   "execution_count": 17,
   "id": "41c8052d",
   "metadata": {},
   "outputs": [
    {
     "data": {
      "text/plain": [
       "True"
      ]
     },
     "execution_count": 17,
     "metadata": {},
     "output_type": "execute_result"
    }
   ],
   "source": [
    "product.isupper()"
   ]
  },
  {
   "cell_type": "code",
   "execution_count": 18,
   "id": "5eadfb14",
   "metadata": {},
   "outputs": [],
   "source": [
    "text = \"I Love Oranges\""
   ]
  },
  {
   "cell_type": "code",
   "execution_count": 19,
   "id": "8190ded1",
   "metadata": {},
   "outputs": [
    {
     "data": {
      "text/plain": [
       "False"
      ]
     },
     "execution_count": 19,
     "metadata": {},
     "output_type": "execute_result"
    }
   ],
   "source": [
    "product.istitle()"
   ]
  },
  {
   "cell_type": "code",
   "execution_count": 22,
   "id": "080bed0a",
   "metadata": {},
   "outputs": [
    {
     "data": {
      "text/plain": [
       "True"
      ]
     },
     "execution_count": 22,
     "metadata": {},
     "output_type": "execute_result"
    }
   ],
   "source": [
    "text.istitle()"
   ]
  },
  {
   "cell_type": "code",
   "execution_count": 23,
   "id": "31664a1a",
   "metadata": {},
   "outputs": [
    {
     "data": {
      "text/plain": [
       "True"
      ]
     },
     "execution_count": 23,
     "metadata": {},
     "output_type": "execute_result"
    }
   ],
   "source": [
    "text[7].isupper()"
   ]
  },
  {
   "cell_type": "code",
   "execution_count": 24,
   "id": "60a96c51",
   "metadata": {},
   "outputs": [
    {
     "data": {
      "text/plain": [
       "'O'"
      ]
     },
     "execution_count": 24,
     "metadata": {},
     "output_type": "execute_result"
    }
   ],
   "source": [
    "text[7]"
   ]
  },
  {
   "cell_type": "code",
   "execution_count": 25,
   "id": "f66fd3d1",
   "metadata": {},
   "outputs": [],
   "source": [
    "text = \"The price is 250\""
   ]
  },
  {
   "cell_type": "code",
   "execution_count": 26,
   "id": "197c8ded",
   "metadata": {},
   "outputs": [
    {
     "data": {
      "text/plain": [
       "13"
      ]
     },
     "execution_count": 26,
     "metadata": {},
     "output_type": "execute_result"
    }
   ],
   "source": [
    "text.index(\"250\")#extract a "
   ]
  },
  {
   "cell_type": "code",
   "execution_count": 29,
   "id": "9157eb0d",
   "metadata": {},
   "outputs": [],
   "source": [
    "i_price = int(text[13:])# this is splicing"
   ]
  },
  {
   "cell_type": "code",
   "execution_count": 30,
   "id": "5b516184",
   "metadata": {},
   "outputs": [
    {
     "data": {
      "text/plain": [
       "250"
      ]
     },
     "execution_count": 30,
     "metadata": {},
     "output_type": "execute_result"
    }
   ],
   "source": [
    "i_price"
   ]
  },
  {
   "cell_type": "code",
   "execution_count": 31,
   "id": "25f6243e",
   "metadata": {},
   "outputs": [],
   "source": [
    "i_price =i_price+100"
   ]
  },
  {
   "cell_type": "code",
   "execution_count": 32,
   "id": "c222e6f2",
   "metadata": {},
   "outputs": [
    {
     "data": {
      "text/plain": [
       "350"
      ]
     },
     "execution_count": 32,
     "metadata": {},
     "output_type": "execute_result"
    }
   ],
   "source": [
    "i_price"
   ]
  },
  {
   "cell_type": "code",
   "execution_count": 33,
   "id": "5fc1d125",
   "metadata": {},
   "outputs": [],
   "source": [
    "s_price = str(i_price)"
   ]
  },
  {
   "cell_type": "code",
   "execution_count": 34,
   "id": "0bb17f9f",
   "metadata": {},
   "outputs": [
    {
     "data": {
      "text/plain": [
       "'350'"
      ]
     },
     "execution_count": 34,
     "metadata": {},
     "output_type": "execute_result"
    }
   ],
   "source": [
    "s_price"
   ]
  },
  {
   "cell_type": "code",
   "execution_count": 35,
   "id": "1fe8c358",
   "metadata": {},
   "outputs": [
    {
     "data": {
      "text/plain": [
       "'The price is 350'"
      ]
     },
     "execution_count": 35,
     "metadata": {},
     "output_type": "execute_result"
    }
   ],
   "source": [
    "text.replace(\"250\",s_price)"
   ]
  },
  {
   "cell_type": "code",
   "execution_count": 36,
   "id": "d52acfa4",
   "metadata": {},
   "outputs": [],
   "source": [
    "#take an input from the user which must be his age\n",
    "#if age is greater than 20 print fare is $30\n",
    "#else print fare is $10"
   ]
  },
  {
   "cell_type": "code",
   "execution_count": 3,
   "id": "35354474",
   "metadata": {},
   "outputs": [],
   "source": [
    "#Pseudo Code\n",
    "#take input from user\n",
    "#Convert the input to integer\n",
    "#check if the age is > 20\n",
    "#else print fare is $10"
   ]
  },
  {
   "cell_type": "code",
   "execution_count": 1,
   "id": "f368b4a3",
   "metadata": {},
   "outputs": [
    {
     "name": "stdout",
     "output_type": "stream",
     "text": [
      "enter your age30\n"
     ]
    }
   ],
   "source": [
    "age = input(\"enter your age\")"
   ]
  },
  {
   "cell_type": "code",
   "execution_count": 2,
   "id": "8bea311d",
   "metadata": {},
   "outputs": [
    {
     "name": "stdout",
     "output_type": "stream",
     "text": [
      "The FARE is $30\n"
     ]
    }
   ],
   "source": [
    "age = int(age)\n",
    "if(age > 20):\n",
    "    print(\"The FARE is $30\")\n",
    "else:\n",
    "    print(\"The Fare is $10\")"
   ]
  },
  {
   "cell_type": "markdown",
   "id": "ad0090a4",
   "metadata": {},
   "source": [
    "## While loop"
   ]
  },
  {
   "cell_type": "raw",
   "id": "9cfba33c",
   "metadata": {},
   "source": [
    "initialaize a variable\n",
    "condition\n",
    "counter or increment\n",
    "print numbers from 0 to 100"
   ]
  },
  {
   "cell_type": "code",
   "execution_count": 16,
   "id": "7b407083",
   "metadata": {},
   "outputs": [
    {
     "name": "stdout",
     "output_type": "stream",
     "text": [
      "0\n",
      "1\n",
      "2\n",
      "3\n",
      "4\n",
      "5\n",
      "6\n",
      "7\n",
      "8\n",
      "9\n",
      "10\n",
      "11\n",
      "12\n",
      "13\n",
      "14\n",
      "15\n",
      "16\n",
      "17\n",
      "18\n",
      "19\n",
      "20\n",
      "21\n",
      "22\n",
      "23\n",
      "24\n",
      "25\n",
      "26\n",
      "27\n",
      "28\n",
      "29\n",
      "30\n",
      "31\n",
      "32\n",
      "33\n",
      "34\n",
      "35\n",
      "36\n",
      "37\n",
      "38\n",
      "39\n",
      "40\n",
      "41\n",
      "42\n",
      "43\n",
      "44\n",
      "45\n",
      "46\n",
      "47\n",
      "48\n",
      "49\n",
      "50\n",
      "51\n",
      "52\n",
      "53\n",
      "54\n",
      "55\n",
      "56\n",
      "57\n",
      "58\n",
      "59\n",
      "60\n",
      "61\n",
      "62\n",
      "63\n",
      "64\n",
      "65\n",
      "66\n",
      "67\n",
      "68\n",
      "69\n",
      "70\n",
      "71\n",
      "72\n",
      "73\n",
      "74\n",
      "75\n",
      "76\n",
      "77\n",
      "78\n",
      "79\n",
      "80\n",
      "81\n",
      "82\n",
      "83\n",
      "84\n",
      "85\n",
      "86\n",
      "87\n",
      "88\n",
      "89\n",
      "90\n",
      "91\n",
      "92\n",
      "93\n",
      "94\n",
      "95\n",
      "96\n",
      "97\n",
      "98\n",
      "99\n",
      "100\n"
     ]
    }
   ],
   "source": [
    "i=0\n",
    "while(i<=100):\n",
    "    print(i)\n",
    "    i+=1"
   ]
  },
  {
   "cell_type": "code",
   "execution_count": 24,
   "id": "73d7e314",
   "metadata": {},
   "outputs": [
    {
     "name": "stdout",
     "output_type": "stream",
     "text": [
      "55\n"
     ]
    }
   ],
   "source": [
    "i = 0 ;\n",
    "total = 0;\n",
    "while(i<10):\n",
    "    i=i+1\n",
    "    total = total + i;\n",
    "print(total)"
   ]
  },
  {
   "cell_type": "markdown",
   "id": "2ddaac68",
   "metadata": {},
   "source": [
    "## for loop"
   ]
  },
  {
   "cell_type": "raw",
   "id": "71a35596",
   "metadata": {},
   "source": [
    "for loop is a sequence objector"
   ]
  },
  {
   "cell_type": "code",
   "execution_count": 36,
   "id": "7f19f362",
   "metadata": {},
   "outputs": [
    {
     "name": "stdout",
     "output_type": "stream",
     "text": [
      "A\n",
      "P\n",
      "P\n",
      "L\n",
      "E\n"
     ]
    }
   ],
   "source": [
    "text =\"APPLE\"\n",
    "for i in text:\n",
    "    print(i)"
   ]
  },
  {
   "cell_type": "code",
   "execution_count": null,
   "id": "a0e17779",
   "metadata": {},
   "outputs": [],
   "source": [
    "#text = chennai (print only upper case letter using for loop)"
   ]
  },
  {
   "cell_type": "code",
   "execution_count": 40,
   "id": "ea91a570",
   "metadata": {},
   "outputs": [
    {
     "name": "stdout",
     "output_type": "stream",
     "text": [
      "C\n",
      "E\n",
      "N\n"
     ]
    }
   ],
   "source": [
    "text = \"ChENnai\"\n",
    "#use a for loop to iterate through the word\n",
    "for i in text:\n",
    "    #using an if to check upper case\n",
    "    if(i.isupper()):\n",
    "        #print if in upper case\n",
    "        print(i)  "
   ]
  },
  {
   "cell_type": "code",
   "execution_count": 49,
   "id": "65a68aa4",
   "metadata": {},
   "outputs": [
    {
     "name": "stdout",
     "output_type": "stream",
     "text": [
      "2\n",
      "0\n",
      "0\n",
      "9\n",
      "1\n",
      "2\n",
      "3\n"
     ]
    }
   ],
   "source": [
    "# take the provided string and prit only numbers\n",
    "text = \"20 M G ROAD #09-123\"\n",
    "for i in text:\n",
    "    if(i.isdigit()):\n",
    "        print(i)\n",
    "        "
   ]
  },
  {
   "cell_type": "markdown",
   "id": "2086a176",
   "metadata": {},
   "source": [
    "isalpha\n",
    "isalnum\n"
   ]
  },
  {
   "cell_type": "code",
   "execution_count": 55,
   "id": "1be75696",
   "metadata": {},
   "outputs": [
    {
     "name": "stdout",
     "output_type": "stream",
     "text": [
      "2\n",
      "0\n",
      "0\n",
      "9\n"
     ]
    }
   ],
   "source": [
    "# braek once the value of i is 9\n",
    "text = \"20 M G ROAD #09-123\"\n",
    "for i in text:\n",
    "    if(i.isdigit()):\n",
    "        print(i)\n",
    "        if(int(i) == 9):\n",
    "            break\n",
    "        "
   ]
  },
  {
   "cell_type": "code",
   "execution_count": 56,
   "id": "6aa52fd5",
   "metadata": {},
   "outputs": [],
   "source": [
    "text = \"ORANGES\""
   ]
  },
  {
   "cell_type": "code",
   "execution_count": 57,
   "id": "2bea6bda",
   "metadata": {},
   "outputs": [
    {
     "name": "stdout",
     "output_type": "stream",
     "text": [
      "O\n",
      "hello\n",
      "OK\n",
      "R\n",
      "hello\n",
      "OK\n",
      "A\n",
      "hello\n",
      "OK\n"
     ]
    }
   ],
   "source": [
    "for i in text:\n",
    "    if i==\"N\":\n",
    "        break\n",
    "    print(i)\n",
    "    print(\"hello\")\n",
    "    print(\"OK\")"
   ]
  },
  {
   "cell_type": "code",
   "execution_count": 58,
   "id": "cea298ed",
   "metadata": {},
   "outputs": [
    {
     "name": "stdout",
     "output_type": "stream",
     "text": [
      "O\n",
      "hello\n",
      "OK\n",
      "R\n",
      "hello\n",
      "OK\n",
      "A\n",
      "hello\n",
      "OK\n",
      "G\n",
      "hello\n",
      "OK\n",
      "E\n",
      "hello\n",
      "OK\n",
      "S\n",
      "hello\n",
      "OK\n"
     ]
    }
   ],
   "source": [
    "for i in text:\n",
    "    if i==\"N\":\n",
    "        continue\n",
    "    print(i)\n",
    "    print(\"hello\")\n",
    "    print(\"OK\")"
   ]
  },
  {
   "cell_type": "code",
   "execution_count": 3,
   "id": "a807ddb0",
   "metadata": {},
   "outputs": [
    {
     "name": "stdout",
     "output_type": "stream",
     "text": [
      "679\n",
      "Not Divisible\n"
     ]
    }
   ],
   "source": [
    "x=\"\"\n",
    "text = \"A6BCD7FT9\"\n",
    "for i in text:\n",
    "    if(i.isdigit()):\n",
    "        x=x+i\n",
    "print(x)\n",
    "if(int(x)%13 == 0):\n",
    "    print(\"Divisible\")\n",
    "else:\n",
    "    print(\"Not Divisible\")\n"
   ]
  },
  {
   "cell_type": "markdown",
   "id": "2c45289c",
   "metadata": {},
   "source": [
    "## Lists"
   ]
  },
  {
   "cell_type": "code",
   "execution_count": 4,
   "id": "b4a9ec05",
   "metadata": {},
   "outputs": [],
   "source": [
    "a = []"
   ]
  },
  {
   "cell_type": "code",
   "execution_count": 5,
   "id": "c4457e0c",
   "metadata": {},
   "outputs": [
    {
     "data": {
      "text/plain": [
       "list"
      ]
     },
     "execution_count": 5,
     "metadata": {},
     "output_type": "execute_result"
    }
   ],
   "source": [
    "type(a)"
   ]
  },
  {
   "cell_type": "code",
   "execution_count": 15,
   "id": "facf761e",
   "metadata": {},
   "outputs": [
    {
     "data": {
      "text/plain": [
       "['Tom', 'Jerry', 'Sunil', 'Mary', 'Lucy']"
      ]
     },
     "execution_count": 15,
     "metadata": {},
     "output_type": "execute_result"
    }
   ],
   "source": [
    "names = [\"Tom\",\"Jerry\",\"Sunil\",\"Mary\",\"Lucy\"]#homogenous list all value of the list are of same data type\n",
    "names"
   ]
  },
  {
   "cell_type": "code",
   "execution_count": 9,
   "id": "bfb9954b",
   "metadata": {},
   "outputs": [
    {
     "data": {
      "text/plain": [
       "[23, 34, 45, 56, 67]"
      ]
     },
     "execution_count": 9,
     "metadata": {},
     "output_type": "execute_result"
    }
   ],
   "source": [
    "age = [23,34,45,56,67]\n",
    "age"
   ]
  },
  {
   "cell_type": "code",
   "execution_count": 10,
   "id": "e9dd31a7",
   "metadata": {},
   "outputs": [
    {
     "data": {
      "text/plain": [
       "'Lucy'"
      ]
     },
     "execution_count": 10,
     "metadata": {},
     "output_type": "execute_result"
    }
   ],
   "source": [
    "names[4]"
   ]
  },
  {
   "cell_type": "code",
   "execution_count": 17,
   "id": "d39cb374",
   "metadata": {},
   "outputs": [
    {
     "data": {
      "text/plain": [
       "['Sunil', 'Mary']"
      ]
     },
     "execution_count": 17,
     "metadata": {},
     "output_type": "execute_result"
    }
   ],
   "source": [
    "names[2:4] # starts at 2, ends at 4-1"
   ]
  },
  {
   "cell_type": "code",
   "execution_count": 18,
   "id": "2802d1c2",
   "metadata": {},
   "outputs": [
    {
     "data": {
      "text/plain": [
       "['Sunil', 'Mary', 'Lucy']"
      ]
     },
     "execution_count": 18,
     "metadata": {},
     "output_type": "execute_result"
    }
   ],
   "source": [
    "names[2:]"
   ]
  },
  {
   "cell_type": "code",
   "execution_count": 19,
   "id": "e4011a14",
   "metadata": {},
   "outputs": [
    {
     "data": {
      "text/plain": [
       "['Sunil', 'Mary', 'Lucy']"
      ]
     },
     "execution_count": 19,
     "metadata": {},
     "output_type": "execute_result"
    }
   ],
   "source": [
    "names[2:6]"
   ]
  },
  {
   "cell_type": "code",
   "execution_count": 20,
   "id": "3bf0f9fb",
   "metadata": {},
   "outputs": [],
   "source": [
    "Productprices = [\"Apple\", 23 ,\"oranges\" , 13 , \"grapes\" , 9]"
   ]
  },
  {
   "cell_type": "code",
   "execution_count": 21,
   "id": "00dcf44c",
   "metadata": {},
   "outputs": [],
   "source": [
    "cust = [[\"john\",23],[\"mary\",22],[\"jake\",28]]#list of list is always hetrogenous"
   ]
  },
  {
   "cell_type": "code",
   "execution_count": 22,
   "id": "9a6d19c9",
   "metadata": {},
   "outputs": [
    {
     "data": {
      "text/plain": [
       "list"
      ]
     },
     "execution_count": 22,
     "metadata": {},
     "output_type": "execute_result"
    }
   ],
   "source": [
    "type(cust)"
   ]
  },
  {
   "cell_type": "code",
   "execution_count": 23,
   "id": "90553bee",
   "metadata": {},
   "outputs": [
    {
     "data": {
      "text/plain": [
       "['john', 23]"
      ]
     },
     "execution_count": 23,
     "metadata": {},
     "output_type": "execute_result"
    }
   ],
   "source": [
    "cust[0]"
   ]
  },
  {
   "cell_type": "code",
   "execution_count": 24,
   "id": "ba1a5ccd",
   "metadata": {},
   "outputs": [
    {
     "data": {
      "text/plain": [
       "'john'"
      ]
     },
     "execution_count": 24,
     "metadata": {},
     "output_type": "execute_result"
    }
   ],
   "source": [
    "cust[0][0]"
   ]
  },
  {
   "cell_type": "code",
   "execution_count": 25,
   "id": "8a0a8021",
   "metadata": {},
   "outputs": [
    {
     "data": {
      "text/plain": [
       "22"
      ]
     },
     "execution_count": 25,
     "metadata": {},
     "output_type": "execute_result"
    }
   ],
   "source": [
    "cust[1][1]"
   ]
  },
  {
   "cell_type": "code",
   "execution_count": 36,
   "id": "1f61b5fa",
   "metadata": {},
   "outputs": [],
   "source": [
    "fruits =['apples','Oranges','grapes','Melons','kiwi']"
   ]
  },
  {
   "cell_type": "code",
   "execution_count": 40,
   "id": "20d62457",
   "metadata": {},
   "outputs": [
    {
     "name": "stdout",
     "output_type": "stream",
     "text": [
      "apples\n",
      "Oranges\n",
      "grapes\n",
      "Melons\n",
      "kiwi\n"
     ]
    }
   ],
   "source": [
    "for i in fruits:\n",
    "        print(i)"
   ]
  },
  {
   "cell_type": "code",
   "execution_count": 38,
   "id": "bf6cb46e",
   "metadata": {},
   "outputs": [],
   "source": [
    "fruits =['apples','Oranges','grapes','Melons','kiwi']"
   ]
  },
  {
   "cell_type": "code",
   "execution_count": 39,
   "id": "2d2d328d",
   "metadata": {},
   "outputs": [
    {
     "name": "stdout",
     "output_type": "stream",
     "text": [
      "Oranges\n",
      "Melons\n"
     ]
    }
   ],
   "source": [
    "for i in fruits:\n",
    "    if(i.istitle()):\n",
    "        print(i)"
   ]
  },
  {
   "cell_type": "code",
   "execution_count": 41,
   "id": "ab7e0f13",
   "metadata": {},
   "outputs": [
    {
     "name": "stdout",
     "output_type": "stream",
     "text": [
      "Oranges\n",
      "Melons\n"
     ]
    }
   ],
   "source": [
    "for i in fruits:\n",
    "    if(i[0].isupper()):\n",
    "        print(i)"
   ]
  },
  {
   "cell_type": "code",
   "execution_count": 44,
   "id": "77ee9ce4",
   "metadata": {},
   "outputs": [],
   "source": [
    "age = [45,29,34,67,19]\n",
    "age.sort() #replacing original data"
   ]
  },
  {
   "cell_type": "code",
   "execution_count": 45,
   "id": "96f4ef5e",
   "metadata": {},
   "outputs": [
    {
     "data": {
      "text/plain": [
       "[19, 29, 34, 45, 67]"
      ]
     },
     "execution_count": 45,
     "metadata": {},
     "output_type": "execute_result"
    }
   ],
   "source": [
    "age"
   ]
  },
  {
   "cell_type": "code",
   "execution_count": 49,
   "id": "be9ca44c",
   "metadata": {},
   "outputs": [],
   "source": [
    "age.sort(reverse=True)"
   ]
  },
  {
   "cell_type": "code",
   "execution_count": 50,
   "id": "acb5d7aa",
   "metadata": {},
   "outputs": [
    {
     "data": {
      "text/plain": [
       "[67, 45, 34, 29, 19]"
      ]
     },
     "execution_count": 50,
     "metadata": {},
     "output_type": "execute_result"
    }
   ],
   "source": [
    "age"
   ]
  },
  {
   "cell_type": "code",
   "execution_count": 52,
   "id": "a63a0f27",
   "metadata": {},
   "outputs": [
    {
     "data": {
      "text/plain": [
       "['Melons', 'Oranges', 'apples', 'grapes', 'kiwi']"
      ]
     },
     "execution_count": 52,
     "metadata": {},
     "output_type": "execute_result"
    }
   ],
   "source": [
    "fruits.sort()#using ascii value to sort hence A-Z the a-z\n",
    "fruits"
   ]
  },
  {
   "cell_type": "code",
   "execution_count": 54,
   "id": "901c5317",
   "metadata": {},
   "outputs": [
    {
     "ename": "TypeError",
     "evalue": "'<' not supported between instances of 'int' and 'str'",
     "output_type": "error",
     "traceback": [
      "\u001b[1;31m---------------------------------------------------------------------------\u001b[0m",
      "\u001b[1;31mTypeError\u001b[0m                                 Traceback (most recent call last)",
      "\u001b[1;32mC:\\Users\\MULTIM~1\\AppData\\Local\\Temp/ipykernel_3696/569178403.py\u001b[0m in \u001b[0;36m<module>\u001b[1;34m\u001b[0m\n\u001b[1;32m----> 1\u001b[1;33m \u001b[0mProductprices\u001b[0m\u001b[1;33m.\u001b[0m\u001b[0msort\u001b[0m\u001b[1;33m(\u001b[0m\u001b[1;33m)\u001b[0m\u001b[1;31m# sort does not work for hetrogenous list\u001b[0m\u001b[1;33m\u001b[0m\u001b[1;33m\u001b[0m\u001b[0m\n\u001b[0m",
      "\u001b[1;31mTypeError\u001b[0m: '<' not supported between instances of 'int' and 'str'"
     ]
    }
   ],
   "source": [
    "Productprices.sort()# sort does not work for hetrogenous list"
   ]
  },
  {
   "cell_type": "code",
   "execution_count": 55,
   "id": "a209f869",
   "metadata": {},
   "outputs": [
    {
     "data": {
      "text/plain": [
       "[45, 29, 34, 67, 19, 50]"
      ]
     },
     "execution_count": 55,
     "metadata": {},
     "output_type": "execute_result"
    }
   ],
   "source": [
    "prices = [45,29,34,67,19]\n",
    "\n",
    "prices.append(50)\n",
    "prices"
   ]
  },
  {
   "cell_type": "code",
   "execution_count": 56,
   "id": "3f644d94",
   "metadata": {},
   "outputs": [],
   "source": [
    "prices.insert(1,20)"
   ]
  },
  {
   "cell_type": "code",
   "execution_count": 57,
   "id": "975f0089",
   "metadata": {},
   "outputs": [
    {
     "data": {
      "text/plain": [
       "[45, 20, 29, 34, 67, 19, 50]"
      ]
     },
     "execution_count": 57,
     "metadata": {},
     "output_type": "execute_result"
    }
   ],
   "source": [
    "prices"
   ]
  },
  {
   "cell_type": "code",
   "execution_count": 58,
   "id": "c39d5493",
   "metadata": {},
   "outputs": [
    {
     "data": {
      "text/plain": [
       "29"
      ]
     },
     "execution_count": 58,
     "metadata": {},
     "output_type": "execute_result"
    }
   ],
   "source": [
    "prices.pop(2)"
   ]
  },
  {
   "cell_type": "code",
   "execution_count": 59,
   "id": "9a5dbb13",
   "metadata": {},
   "outputs": [
    {
     "data": {
      "text/plain": [
       "[45, 20, 34, 67, 19, 50]"
      ]
     },
     "execution_count": 59,
     "metadata": {},
     "output_type": "execute_result"
    }
   ],
   "source": [
    "prices"
   ]
  },
  {
   "cell_type": "code",
   "execution_count": 74,
   "id": "d50f28f3",
   "metadata": {},
   "outputs": [],
   "source": [
    "# consider the below list\n",
    "# create \n",
    "prices =[100,200,300,400]"
   ]
  },
  {
   "cell_type": "code",
   "execution_count": 78,
   "id": "1c5bed37",
   "metadata": {},
   "outputs": [],
   "source": [
    "m_price =[]"
   ]
  },
  {
   "cell_type": "code",
   "execution_count": 79,
   "id": "7a135b98",
   "metadata": {},
   "outputs": [],
   "source": [
    "for i in prices:\n",
    "    m_price.append(i*1.10)"
   ]
  },
  {
   "cell_type": "code",
   "execution_count": 80,
   "id": "5dfdedb7",
   "metadata": {},
   "outputs": [
    {
     "data": {
      "text/plain": [
       "[110.00000000000001, 220.00000000000003, 330.0, 440.00000000000006]"
      ]
     },
     "execution_count": 80,
     "metadata": {},
     "output_type": "execute_result"
    }
   ],
   "source": [
    "m_price"
   ]
  },
  {
   "cell_type": "code",
   "execution_count": 91,
   "id": "b757098b",
   "metadata": {},
   "outputs": [],
   "source": [
    "qty =[[\"apples\",100],[\"oranges\",200],[\"Grapes\",300]]\n",
    "new = []"
   ]
  },
  {
   "cell_type": "code",
   "execution_count": 92,
   "id": "3d091b51",
   "metadata": {},
   "outputs": [],
   "source": [
    "for i in qty:\n",
    "    new.append(int(i[1]*1.10))\n",
    "    "
   ]
  },
  {
   "cell_type": "code",
   "execution_count": 93,
   "id": "1bd718bc",
   "metadata": {},
   "outputs": [
    {
     "data": {
      "text/plain": [
       "[110, 220, 330]"
      ]
     },
     "execution_count": 93,
     "metadata": {},
     "output_type": "execute_result"
    }
   ],
   "source": [
    "new"
   ]
  },
  {
   "cell_type": "code",
   "execution_count": 94,
   "id": "3f0cccee",
   "metadata": {},
   "outputs": [
    {
     "data": {
      "text/plain": [
       "[20, 30, 50, 60]"
      ]
     },
     "execution_count": 94,
     "metadata": {},
     "output_type": "execute_result"
    }
   ],
   "source": [
    "#remove method -we use values\n",
    "prices =[20,30,40,50,60]\n",
    "prices.remove(40)\n",
    "prices"
   ]
  },
  {
   "cell_type": "code",
   "execution_count": 95,
   "id": "5b9418e1",
   "metadata": {},
   "outputs": [
    {
     "data": {
      "text/plain": [
       "50"
      ]
     },
     "execution_count": 95,
     "metadata": {},
     "output_type": "execute_result"
    }
   ],
   "source": [
    "#pop uses index to remove values.\n",
    "prices.pop(2)"
   ]
  },
  {
   "cell_type": "code",
   "execution_count": 96,
   "id": "8f5678e2",
   "metadata": {},
   "outputs": [
    {
     "data": {
      "text/plain": [
       "[20, 30, 60]"
      ]
     },
     "execution_count": 96,
     "metadata": {},
     "output_type": "execute_result"
    }
   ],
   "source": [
    "prices"
   ]
  },
  {
   "cell_type": "code",
   "execution_count": null,
   "id": "6f37c844",
   "metadata": {},
   "outputs": [],
   "source": []
  }
 ],
 "metadata": {
  "kernelspec": {
   "display_name": "Python 3 (ipykernel)",
   "language": "python",
   "name": "python3"
  },
  "language_info": {
   "codemirror_mode": {
    "name": "ipython",
    "version": 3
   },
   "file_extension": ".py",
   "mimetype": "text/x-python",
   "name": "python",
   "nbconvert_exporter": "python",
   "pygments_lexer": "ipython3",
   "version": "3.9.7"
  }
 },
 "nbformat": 4,
 "nbformat_minor": 5
}
