{
 "cells": [
  {
   "cell_type": "markdown",
   "id": "83a84e63",
   "metadata": {},
   "source": [
    "## List Comprehension"
   ]
  },
  {
   "cell_type": "code",
   "execution_count": 6,
   "id": "42df80f6",
   "metadata": {},
   "outputs": [],
   "source": [
    "nm = [1,2,3,4]\n",
    "newnm = list();\n",
    "#print the squares of the number"
   ]
  },
  {
   "cell_type": "code",
   "execution_count": 7,
   "id": "95efc06a",
   "metadata": {},
   "outputs": [
    {
     "name": "stdout",
     "output_type": "stream",
     "text": [
      "1\n",
      "4\n",
      "9\n",
      "16\n"
     ]
    }
   ],
   "source": [
    "for i in nm:\n",
    "    print(i*i)"
   ]
  },
  {
   "cell_type": "code",
   "execution_count": 10,
   "id": "3290edd2",
   "metadata": {},
   "outputs": [],
   "source": [
    "nm = [1,2,3,4]\n",
    "newnm = list();\n",
    "#print a list to hold the squares of the number"
   ]
  },
  {
   "cell_type": "code",
   "execution_count": 11,
   "id": "59808e61",
   "metadata": {},
   "outputs": [
    {
     "data": {
      "text/plain": [
       "[1, 4, 9, 16]"
      ]
     },
     "execution_count": 11,
     "metadata": {},
     "output_type": "execute_result"
    }
   ],
   "source": [
    "for i in nm:\n",
    "    newnm.append(i*i)\n",
    "    \n",
    "newnm"
   ]
  },
  {
   "cell_type": "code",
   "execution_count": 12,
   "id": "37110c6e",
   "metadata": {},
   "outputs": [
    {
     "name": "stdout",
     "output_type": "stream",
     "text": [
      "[1, 4, 9, 16]\n"
     ]
    }
   ],
   "source": [
    "#new = [output iterable]\n",
    "new = [i**2 for i in nm]\n",
    "print(new)"
   ]
  },
  {
   "cell_type": "code",
   "execution_count": 14,
   "id": "890d826c",
   "metadata": {},
   "outputs": [],
   "source": [
    "num = [1,2,3,4,5,6,7,8,9]\n",
    "nk1 = list()\n",
    "#generate a list with square of the numbers\n",
    "#but consider only even numbers"
   ]
  },
  {
   "cell_type": "code",
   "execution_count": 15,
   "id": "3e50384a",
   "metadata": {},
   "outputs": [
    {
     "name": "stdout",
     "output_type": "stream",
     "text": [
      "[4, 16, 36, 64]\n"
     ]
    }
   ],
   "source": [
    "for i in num:\n",
    "    if(i % 2 == 0):\n",
    "        nk1.append(i**2)\n",
    "print(nk1)\n",
    "        "
   ]
  },
  {
   "cell_type": "code",
   "execution_count": 18,
   "id": "75af4a4d",
   "metadata": {},
   "outputs": [],
   "source": [
    "#list comprehension\n",
    "#new = [output iterable condition]"
   ]
  },
  {
   "cell_type": "code",
   "execution_count": 17,
   "id": "f2045ae5",
   "metadata": {},
   "outputs": [
    {
     "data": {
      "text/plain": [
       "[4, 16, 36, 64]"
      ]
     },
     "execution_count": 17,
     "metadata": {},
     "output_type": "execute_result"
    }
   ],
   "source": [
    "new =[i**2 for i in num if(i%2==0)]\n",
    "new"
   ]
  },
  {
   "cell_type": "markdown",
   "id": "06ffb11a",
   "metadata": {},
   "source": [
    "### Q3"
   ]
  },
  {
   "cell_type": "code",
   "execution_count": 19,
   "id": "e010cd9d",
   "metadata": {},
   "outputs": [],
   "source": [
    "prices = [100,200,250,300,450]\n",
    "#Add 7% GST to each value and generate new list"
   ]
  },
  {
   "cell_type": "code",
   "execution_count": 20,
   "id": "504d3371",
   "metadata": {},
   "outputs": [],
   "source": [
    "taxpr = [i*0.07+i for i in prices]"
   ]
  },
  {
   "cell_type": "code",
   "execution_count": 21,
   "id": "7ba02945",
   "metadata": {},
   "outputs": [
    {
     "data": {
      "text/plain": [
       "[107.0, 214.0, 267.5, 321.0, 481.5]"
      ]
     },
     "execution_count": 21,
     "metadata": {},
     "output_type": "execute_result"
    }
   ],
   "source": [
    "taxpr"
   ]
  },
  {
   "cell_type": "markdown",
   "id": "8086de9d",
   "metadata": {},
   "source": [
    "### Q4"
   ]
  },
  {
   "cell_type": "code",
   "execution_count": 30,
   "id": "54f76cc5",
   "metadata": {},
   "outputs": [],
   "source": [
    "text = \"Assets is worth 24000000 and liability is 120000\"\n",
    "\n",
    "#using list comprehension extract allnumberfrom the string"
   ]
  },
  {
   "cell_type": "code",
   "execution_count": 33,
   "id": "e5927628",
   "metadata": {},
   "outputs": [],
   "source": [
    "opnum = [int(i) for i in text.split() if(i.isdigit())]"
   ]
  },
  {
   "cell_type": "code",
   "execution_count": 34,
   "id": "83200ff3",
   "metadata": {},
   "outputs": [
    {
     "data": {
      "text/plain": [
       "[24000000, 120000]"
      ]
     },
     "execution_count": 34,
     "metadata": {},
     "output_type": "execute_result"
    }
   ],
   "source": [
    "opnum"
   ]
  },
  {
   "cell_type": "code",
   "execution_count": 35,
   "id": "2b668e5c",
   "metadata": {},
   "outputs": [],
   "source": [
    "#Generate a list of ROI:10% for term deposits\n",
    "#15% for Gov Bonds,20% for Tbills\n",
    "investments = [\"GBonds\",\"Tbills\",\"Term\",\"Term\",\"TBills\"]"
   ]
  },
  {
   "cell_type": "code",
   "execution_count": 36,
   "id": "660b766b",
   "metadata": {},
   "outputs": [
    {
     "data": {
      "text/plain": [
       "[0.15, 0.1, 0.1, 0.1, 0.2]"
      ]
     },
     "execution_count": 36,
     "metadata": {},
     "output_type": "execute_result"
    }
   ],
   "source": [
    "roi = [0.15 if i==\"GBonds\" else 0.2 if i==\"TBills\"\\\n",
    "      else 0.10 for i in investments]\n",
    "roi"
   ]
  },
  {
   "cell_type": "markdown",
   "id": "f59fac19",
   "metadata": {},
   "source": [
    "### User Defined Function"
   ]
  },
  {
   "cell_type": "code",
   "execution_count": 47,
   "id": "05261005",
   "metadata": {},
   "outputs": [],
   "source": [
    "def srm_add():\n",
    "    price =100;\n",
    "    tax=7;\n",
    "    total = price+tax;\n",
    "    print(total)"
   ]
  },
  {
   "cell_type": "code",
   "execution_count": 43,
   "id": "08266a6d",
   "metadata": {},
   "outputs": [
    {
     "name": "stdout",
     "output_type": "stream",
     "text": [
      "107\n"
     ]
    }
   ],
   "source": [
    "srm_add() # call by reference "
   ]
  },
  {
   "cell_type": "code",
   "execution_count": 51,
   "id": "ef91aafb",
   "metadata": {},
   "outputs": [],
   "source": [
    "def srm_add(price,tax):\n",
    "    total = price+tax;\n",
    "    print(total)"
   ]
  },
  {
   "cell_type": "code",
   "execution_count": 52,
   "id": "7dd63237",
   "metadata": {},
   "outputs": [
    {
     "name": "stdout",
     "output_type": "stream",
     "text": [
      "107\n"
     ]
    }
   ],
   "source": [
    "srm_add(100,7) #call by value using the values and calling the srm_add method"
   ]
  },
  {
   "cell_type": "code",
   "execution_count": 53,
   "id": "fde6aa65",
   "metadata": {},
   "outputs": [],
   "source": [
    "def srm_add1(price,tax):\n",
    "    total = price+tax;\n",
    "    return(total)"
   ]
  },
  {
   "cell_type": "code",
   "execution_count": 54,
   "id": "f6374b78",
   "metadata": {},
   "outputs": [],
   "source": [
    "result = srm_add1(100,30)"
   ]
  },
  {
   "cell_type": "code",
   "execution_count": 55,
   "id": "d1f99316",
   "metadata": {},
   "outputs": [
    {
     "data": {
      "text/plain": [
       "130"
      ]
     },
     "execution_count": 55,
     "metadata": {},
     "output_type": "execute_result"
    }
   ],
   "source": [
    "result"
   ]
  },
  {
   "cell_type": "code",
   "execution_count": 56,
   "id": "2f2d6836",
   "metadata": {},
   "outputs": [],
   "source": [
    "#can you write a function\n",
    "#that can store a string \n",
    "#and return the list of digits if digits are present in string"
   ]
  },
  {
   "cell_type": "code",
   "execution_count": 59,
   "id": "3333dc0e",
   "metadata": {},
   "outputs": [],
   "source": [
    "def srm_DigitExtractor(inputstr):\n",
    "    opnum = [int(i) for i in inputstr if(i.isdigit())]\n",
    "    return(opnum)\n",
    "    "
   ]
  },
  {
   "cell_type": "code",
   "execution_count": 61,
   "id": "e4df6d7a",
   "metadata": {},
   "outputs": [
    {
     "data": {
      "text/plain": [
       "[1, 2, 3, 4, 5, 3, 4, 5, 6, 7, 8, 9, 0, 1, 2]"
      ]
     },
     "execution_count": 61,
     "metadata": {},
     "output_type": "execute_result"
    }
   ],
   "source": [
    "srm_DigitExtractor(\"Hello this is 12345 say hi to my friends 34567 and 89012\")"
   ]
  },
  {
   "cell_type": "markdown",
   "id": "98f30b06",
   "metadata": {},
   "source": [
    "## Keyworded Arguement"
   ]
  },
  {
   "cell_type": "code",
   "execution_count": 5,
   "id": "446cdf2c",
   "metadata": {},
   "outputs": [],
   "source": [
    "def srm1_add(total,qty):\n",
    "    unit=total/qty;\n",
    "    return(unit)"
   ]
  },
  {
   "cell_type": "code",
   "execution_count": 7,
   "id": "08d623f5",
   "metadata": {},
   "outputs": [
    {
     "data": {
      "text/plain": [
       "30.0"
      ]
     },
     "execution_count": 7,
     "metadata": {},
     "output_type": "execute_result"
    }
   ],
   "source": [
    "z=srm1_add(300,10)\n",
    "z"
   ]
  },
  {
   "cell_type": "code",
   "execution_count": 8,
   "id": "6adaa63a",
   "metadata": {},
   "outputs": [],
   "source": [
    "z=srm1_add(total=3000,qty=12)//Keyworded arguements"
   ]
  },
  {
   "cell_type": "code",
   "execution_count": 9,
   "id": "98c71652",
   "metadata": {},
   "outputs": [
    {
     "data": {
      "text/plain": [
       "250.0"
      ]
     },
     "execution_count": 9,
     "metadata": {},
     "output_type": "execute_result"
    }
   ],
   "source": [
    "z"
   ]
  },
  {
   "cell_type": "markdown",
   "id": "2b2fc1cb",
   "metadata": {},
   "source": [
    "## Default Arguement"
   ]
  },
  {
   "cell_type": "code",
   "execution_count": 15,
   "id": "62e25cd0",
   "metadata": {},
   "outputs": [],
   "source": [
    "def srm_rate(total,qty=10):\n",
    "    #default values for qty in case value not passed\n",
    "    unit = total/qty\n",
    "    return(unit)"
   ]
  },
  {
   "cell_type": "code",
   "execution_count": 18,
   "id": "4720ac88",
   "metadata": {},
   "outputs": [
    {
     "data": {
      "text/plain": [
       "30.0"
      ]
     },
     "execution_count": 18,
     "metadata": {},
     "output_type": "execute_result"
    }
   ],
   "source": [
    "z=srm_rate(300)#default in case value for qty is not passed\n",
    "z"
   ]
  },
  {
   "cell_type": "code",
   "execution_count": 19,
   "id": "15bf8dde",
   "metadata": {},
   "outputs": [
    {
     "data": {
      "text/plain": [
       "10.0"
      ]
     },
     "execution_count": 19,
     "metadata": {},
     "output_type": "execute_result"
    }
   ],
   "source": [
    "z=srm_rate(300,30)#default in case value for qty is not passed\n",
    "z"
   ]
  },
  {
   "cell_type": "markdown",
   "id": "1aa50aa8",
   "metadata": {},
   "source": [
    "## Variable length Arguement"
   ]
  },
  {
   "cell_type": "code",
   "execution_count": 20,
   "id": "9fd3cf2a",
   "metadata": {},
   "outputs": [],
   "source": [
    "def srm_add_all(*num):\n",
    "    print(num)"
   ]
  },
  {
   "cell_type": "code",
   "execution_count": 21,
   "id": "e99af92d",
   "metadata": {},
   "outputs": [
    {
     "name": "stdout",
     "output_type": "stream",
     "text": [
      "(5, 6, 7)\n"
     ]
    }
   ],
   "source": [
    "srm_add_all(5,6,7)"
   ]
  },
  {
   "cell_type": "markdown",
   "id": "fae75760",
   "metadata": {},
   "source": [
    "Write a program to add all input and return the value"
   ]
  },
  {
   "cell_type": "code",
   "execution_count": 25,
   "id": "200f6df1",
   "metadata": {},
   "outputs": [],
   "source": [
    "def srm_add_all(*num):\n",
    "    count = 0\n",
    "    for i in num:\n",
    "        count += i;#count=count+i\n",
    "    return count;"
   ]
  },
  {
   "cell_type": "code",
   "execution_count": 26,
   "id": "92e8e09b",
   "metadata": {},
   "outputs": [],
   "source": [
    "z=srm_add_all(3,4,5,6,7,8,9)"
   ]
  },
  {
   "cell_type": "code",
   "execution_count": 27,
   "id": "613738bb",
   "metadata": {},
   "outputs": [
    {
     "data": {
      "text/plain": [
       "42"
      ]
     },
     "execution_count": 27,
     "metadata": {},
     "output_type": "execute_result"
    }
   ],
   "source": [
    "z"
   ]
  },
  {
   "cell_type": "markdown",
   "id": "bf50a1f7",
   "metadata": {},
   "source": [
    "### Variable length Keyworded Arguement"
   ]
  },
  {
   "cell_type": "code",
   "execution_count": 28,
   "id": "4b50566b",
   "metadata": {},
   "outputs": [],
   "source": [
    "def srm_data(**info):\n",
    "    print(info)"
   ]
  },
  {
   "cell_type": "code",
   "execution_count": 29,
   "id": "4459aef3",
   "metadata": {},
   "outputs": [
    {
     "name": "stdout",
     "output_type": "stream",
     "text": [
      "{'name': 'John', 'age': 20, 'qlf': 'Masters'}\n"
     ]
    }
   ],
   "source": [
    "srm_data(name=\"John\",age=20,qlf=\"Masters\")"
   ]
  },
  {
   "cell_type": "markdown",
   "id": "30e7f9c9",
   "metadata": {},
   "source": [
    "### Returning multiple values"
   ]
  },
  {
   "cell_type": "code",
   "execution_count": 30,
   "id": "9500f5fe",
   "metadata": {},
   "outputs": [],
   "source": [
    "def srm_values(rate,tax,qty):\n",
    "    cost_bef_tax = rate*qty;\n",
    "    cost_aft_tax = cost_bef_tax+tax;\n",
    "    return(cost_bef_tax,cost_aft_tax)"
   ]
  },
  {
   "cell_type": "code",
   "execution_count": 31,
   "id": "14a3457f",
   "metadata": {},
   "outputs": [],
   "source": [
    "cbt,cat=srm_values(10,500,1000)"
   ]
  },
  {
   "cell_type": "code",
   "execution_count": 32,
   "id": "37ee6ec1",
   "metadata": {},
   "outputs": [
    {
     "name": "stdout",
     "output_type": "stream",
     "text": [
      "10000\n",
      "10500\n"
     ]
    }
   ],
   "source": [
    "print(cbt)\n",
    "print(cat)"
   ]
  },
  {
   "cell_type": "markdown",
   "id": "7b8b1a94",
   "metadata": {},
   "source": [
    "### Lambda Functions"
   ]
  },
  {
   "cell_type": "code",
   "execution_count": 33,
   "id": "940498ef",
   "metadata": {},
   "outputs": [
    {
     "data": {
      "text/plain": [
       "<function __main__.<lambda>(x)>"
      ]
     },
     "execution_count": 33,
     "metadata": {},
     "output_type": "execute_result"
    }
   ],
   "source": [
    "lambda x:x+1"
   ]
  },
  {
   "cell_type": "code",
   "execution_count": 34,
   "id": "c20b2945",
   "metadata": {},
   "outputs": [
    {
     "data": {
      "text/plain": [
       "9"
      ]
     },
     "execution_count": 34,
     "metadata": {},
     "output_type": "execute_result"
    }
   ],
   "source": [
    "result = lambda x:x+1\n",
    "result(8)"
   ]
  },
  {
   "cell_type": "code",
   "execution_count": 35,
   "id": "8051f07c",
   "metadata": {},
   "outputs": [
    {
     "data": {
      "text/plain": [
       "1106"
      ]
     },
     "execution_count": 35,
     "metadata": {},
     "output_type": "execute_result"
    }
   ],
   "source": [
    "result =lambda x:x**2+1+x**3+5\n",
    "result(10)"
   ]
  },
  {
   "cell_type": "code",
   "execution_count": 38,
   "id": "e75becc5",
   "metadata": {},
   "outputs": [
    {
     "data": {
      "text/plain": [
       "'Mark Jeffrey'"
      ]
     },
     "execution_count": 38,
     "metadata": {},
     "output_type": "execute_result"
    }
   ],
   "source": [
    "fn = \"mark\"\n",
    "ln = \"jeffrey\"\n",
    "fullname = lambda fn,ln: fn.title()+\" \"+ln.title()\n",
    "fullname(fn,ln)"
   ]
  },
  {
   "cell_type": "code",
   "execution_count": 39,
   "id": "072da671",
   "metadata": {},
   "outputs": [],
   "source": [
    "names = [\"Ramesh Nair\",\"John Taylor\",\"Swathi Reddy\",\"Manash Kumar\"]\n",
    "names.sort()"
   ]
  },
  {
   "cell_type": "code",
   "execution_count": 45,
   "id": "8a388e51",
   "metadata": {},
   "outputs": [
    {
     "data": {
      "text/plain": [
       "['John Taylor', 'Manash Kumar', 'Ramesh Nair', 'Swathi Reddy']"
      ]
     },
     "execution_count": 45,
     "metadata": {},
     "output_type": "execute_result"
    }
   ],
   "source": [
    "names"
   ]
  },
  {
   "cell_type": "code",
   "execution_count": 48,
   "id": "05cd64cb",
   "metadata": {},
   "outputs": [
    {
     "data": {
      "text/plain": [
       "['Kumar', 'Nair', 'Reddy', 'Taylor']"
      ]
     },
     "execution_count": 48,
     "metadata": {},
     "output_type": "execute_result"
    }
   ],
   "source": [
    "lname=list()\n",
    "for i in names:\n",
    "    temp=i.split(\" \")\n",
    "    lname.append(temp[1])\n",
    "lname.sort()\n",
    "lname"
   ]
  },
  {
   "cell_type": "code",
   "execution_count": 49,
   "id": "b540ebc0",
   "metadata": {},
   "outputs": [],
   "source": [
    "names.sort(key=lambda x:x.split(\" \")[1])"
   ]
  },
  {
   "cell_type": "code",
   "execution_count": 50,
   "id": "7792f246",
   "metadata": {},
   "outputs": [
    {
     "data": {
      "text/plain": [
       "['Manash Kumar', 'Ramesh Nair', 'Swathi Reddy', 'John Taylor']"
      ]
     },
     "execution_count": 50,
     "metadata": {},
     "output_type": "execute_result"
    }
   ],
   "source": [
    "names"
   ]
  },
  {
   "cell_type": "code",
   "execution_count": 51,
   "id": "0b074f1b",
   "metadata": {},
   "outputs": [
    {
     "data": {
      "text/plain": [
       "['Manash Kumar', 'Ramesh Nair', 'Swathi Reddy', 'John Kennedy Taylor']"
      ]
     },
     "execution_count": 51,
     "metadata": {},
     "output_type": "execute_result"
    }
   ],
   "source": [
    "names1 = ['John Kennedy Taylor', 'Manash Kumar', 'Ramesh Nair', 'Swathi Reddy']\n",
    "names1.sort(key=lambda x:x.split(\" \")[-1])\n",
    "names1"
   ]
  },
  {
   "cell_type": "markdown",
   "id": "4d816f6a",
   "metadata": {},
   "source": [
    "#### Q7"
   ]
  },
  {
   "cell_type": "code",
   "execution_count": 55,
   "id": "eeb01261",
   "metadata": {},
   "outputs": [],
   "source": [
    "items=[(\"apples\",87),(\"oranges\",54),(\"grapes\",59),(\"Kiwi\",117)]\n",
    "\n",
    "#sort list by using amount"
   ]
  },
  {
   "cell_type": "code",
   "execution_count": 57,
   "id": "fe2273b1",
   "metadata": {},
   "outputs": [],
   "source": [
    "items.sort(key=lambda x:x[-1])"
   ]
  },
  {
   "cell_type": "code",
   "execution_count": 58,
   "id": "59d894bc",
   "metadata": {},
   "outputs": [
    {
     "data": {
      "text/plain": [
       "[('oranges', 54), ('grapes', 59), ('apples', 87), ('Kiwi', 117)]"
      ]
     },
     "execution_count": 58,
     "metadata": {},
     "output_type": "execute_result"
    }
   ],
   "source": [
    "items"
   ]
  },
  {
   "cell_type": "markdown",
   "id": "73e986f3",
   "metadata": {},
   "source": [
    "### Q8"
   ]
  },
  {
   "cell_type": "code",
   "execution_count": 69,
   "id": "f0a572ec",
   "metadata": {},
   "outputs": [],
   "source": [
    "emp=[{'name':'John','age':23,'YOJ':2016},\\\n",
    "   {'name':'mary','age':32,'YOJ':2019},\\\n",
    "   {'name':'Tommy','age':19,'YOJ':2017},\\\n",
    "   {'name':'Henry','age':40,'YOJ':2020}]\n",
    "# sort by Yoj"
   ]
  },
  {
   "cell_type": "code",
   "execution_count": 70,
   "id": "82c47cb8",
   "metadata": {},
   "outputs": [
    {
     "data": {
      "text/plain": [
       "[{'name': 'Henry', 'age': 40, 'YOJ': 2020},\n",
       " {'name': 'mary', 'age': 32, 'YOJ': 2019},\n",
       " {'name': 'Tommy', 'age': 19, 'YOJ': 2017},\n",
       " {'name': 'John', 'age': 23, 'YOJ': 2016}]"
      ]
     },
     "execution_count": 70,
     "metadata": {},
     "output_type": "execute_result"
    }
   ],
   "source": [
    "emp.sort(key=lambda x:x['YOJ'], reverse=True)\n",
    "emp"
   ]
  },
  {
   "cell_type": "markdown",
   "id": "b1cd89e4",
   "metadata": {},
   "source": [
    "## Numpy python"
   ]
  },
  {
   "cell_type": "code",
   "execution_count": 1,
   "id": "003b54f5",
   "metadata": {},
   "outputs": [
    {
     "name": "stdout",
     "output_type": "stream",
     "text": [
      "Type of Weight: <class 'list'>\n",
      "weight_array: [57 62 73 64]\n",
      "Type of weighht array <class 'numpy.ndarray'>\n"
     ]
    }
   ],
   "source": [
    "import numpy as np\n",
    "weight = [57,62,73,64]\n",
    "print('Type of Weight:',type(weight))\n",
    "\n",
    "weight_array = np.array(weight)\n",
    "print('weight_array:',weight_array)\n",
    "print('Type of weighht array',type(weight_array))"
   ]
  },
  {
   "cell_type": "code",
   "execution_count": 2,
   "id": "d7ba1e6a",
   "metadata": {},
   "outputs": [
    {
     "name": "stdout",
     "output_type": "stream",
     "text": [
      "[57, 62, 73, 64]\n",
      "[57 62 73 64]\n"
     ]
    }
   ],
   "source": [
    "print(weight)\n",
    "print(weight_array)"
   ]
  },
  {
   "cell_type": "code",
   "execution_count": 13,
   "id": "d938f0bd",
   "metadata": {},
   "outputs": [
    {
     "data": {
      "text/plain": [
       "array([0.91670284, 0.73846841, 0.15176502, 0.60377569, 0.86700957,\n",
       "       0.72545739, 0.44969432, 0.06310821, 0.92639733, 0.43282245])"
      ]
     },
     "execution_count": 13,
     "metadata": {},
     "output_type": "execute_result"
    }
   ],
   "source": [
    "np.random.random(size = 10)"
   ]
  },
  {
   "cell_type": "code",
   "execution_count": 11,
   "id": "435975af",
   "metadata": {},
   "outputs": [
    {
     "data": {
      "text/plain": [
       "array([0.23948956, 0.17602131, 0.3183151 , 0.83915316, 0.48648986])"
      ]
     },
     "execution_count": 11,
     "metadata": {},
     "output_type": "execute_result"
    }
   ],
   "source": [
    "np.random.rand(5)"
   ]
  },
  {
   "cell_type": "code",
   "execution_count": 15,
   "id": "2a8fc22b",
   "metadata": {},
   "outputs": [],
   "source": [
    "a=np.random.randn(5)"
   ]
  },
  {
   "cell_type": "code",
   "execution_count": 16,
   "id": "ff862c06",
   "metadata": {},
   "outputs": [
    {
     "data": {
      "text/plain": [
       "-0.003690545011925095"
      ]
     },
     "execution_count": 16,
     "metadata": {},
     "output_type": "execute_result"
    }
   ],
   "source": [
    "a.mean()"
   ]
  },
  {
   "cell_type": "code",
   "execution_count": 17,
   "id": "d463ddd9",
   "metadata": {},
   "outputs": [
    {
     "data": {
      "text/plain": [
       "10"
      ]
     },
     "execution_count": 17,
     "metadata": {},
     "output_type": "execute_result"
    }
   ],
   "source": [
    "np.random.randint(5,20)"
   ]
  },
  {
   "cell_type": "code",
   "execution_count": 2,
   "id": "7e557ae3",
   "metadata": {},
   "outputs": [
    {
     "data": {
      "text/plain": [
       "array([25, 25, 34, 40, 42])"
      ]
     },
     "execution_count": 2,
     "metadata": {},
     "output_type": "execute_result"
    }
   ],
   "source": [
    "np.random.randint(20,50,5)"
   ]
  },
  {
   "cell_type": "code",
   "execution_count": 2,
   "id": "1d27a466",
   "metadata": {},
   "outputs": [
    {
     "data": {
      "text/plain": [
       "array([10, 12, 14, 16, 18])"
      ]
     },
     "execution_count": 2,
     "metadata": {},
     "output_type": "execute_result"
    }
   ],
   "source": [
    "\n",
    "even_num = np.arange(start = 10,stop = 20,step = 2)\n",
    "even_num"
   ]
  },
  {
   "cell_type": "code",
   "execution_count": 5,
   "id": "40ee042b",
   "metadata": {},
   "outputs": [
    {
     "data": {
      "text/plain": [
       "array([ 0.        ,  2.63157895,  5.26315789,  7.89473684, 10.52631579,\n",
       "       13.15789474, 15.78947368, 18.42105263, 21.05263158, 23.68421053,\n",
       "       26.31578947, 28.94736842, 31.57894737, 34.21052632, 36.84210526,\n",
       "       39.47368421, 42.10526316, 44.73684211, 47.36842105, 50.        ])"
      ]
     },
     "execution_count": 5,
     "metadata": {},
     "output_type": "execute_result"
    }
   ],
   "source": [
    "np.linspace(start = 0,stop = 50,num = 20)"
   ]
  },
  {
   "cell_type": "code",
   "execution_count": 10,
   "id": "91425b68",
   "metadata": {},
   "outputs": [],
   "source": [
    "q=np.zeros(6)"
   ]
  },
  {
   "cell_type": "code",
   "execution_count": 11,
   "id": "5f7371d8",
   "metadata": {},
   "outputs": [
    {
     "data": {
      "text/plain": [
       "(6,)"
      ]
     },
     "execution_count": 11,
     "metadata": {},
     "output_type": "execute_result"
    }
   ],
   "source": [
    "q.shape"
   ]
  },
  {
   "cell_type": "code",
   "execution_count": 26,
   "id": "7a7166d5",
   "metadata": {},
   "outputs": [
    {
     "data": {
      "text/plain": [
       "array([[         0, 1072693248,          0],\n",
       "       [1072693248,          0, 1072693248]])"
      ]
     },
     "execution_count": 26,
     "metadata": {},
     "output_type": "execute_result"
    }
   ],
   "source": [
    "matrix_empty = np.empty((2,3),dtype= int)\n",
    "matrix_empty"
   ]
  },
  {
   "cell_type": "code",
   "execution_count": 22,
   "id": "a009cecd",
   "metadata": {},
   "outputs": [
    {
     "data": {
      "text/plain": [
       "array([[1., 0., 0.],\n",
       "       [0., 1., 0.],\n",
       "       [0., 0., 1.]])"
      ]
     },
     "execution_count": 22,
     "metadata": {},
     "output_type": "execute_result"
    }
   ],
   "source": [
    "np.identity(3)"
   ]
  },
  {
   "cell_type": "code",
   "execution_count": 28,
   "id": "7b947d5a",
   "metadata": {},
   "outputs": [
    {
     "data": {
      "text/plain": [
       "2"
      ]
     },
     "execution_count": 28,
     "metadata": {},
     "output_type": "execute_result"
    }
   ],
   "source": [
    "matrix_empty.ndim"
   ]
  },
  {
   "cell_type": "code",
   "execution_count": 30,
   "id": "c3119b3f",
   "metadata": {},
   "outputs": [
    {
     "name": "stdout",
     "output_type": "stream",
     "text": [
      "original array: [[4 9]\n",
      " [7 2]\n",
      " [5 6]]\n",
      "reshaped_array: [[4 9 7]\n",
      " [2 5 6]]\n"
     ]
    }
   ],
   "source": [
    "original_shape =np.array([(4,9),(7,2),(5,6)])\n",
    "print(\"original array:\",original_shape)\n",
    "\n",
    "reshaped_array =original_shape.reshape(2,3)\n",
    "print(\"reshaped_array:\",reshaped_array)"
   ]
  },
  {
   "cell_type": "code",
   "execution_count": 32,
   "id": "9d1a4da7",
   "metadata": {},
   "outputs": [
    {
     "name": "stdout",
     "output_type": "stream",
     "text": [
      "First Element: 23\n"
     ]
    }
   ],
   "source": [
    "#consider a 1D array\n",
    "age = np.array([23,45,18,26,34,65])\n",
    "\n",
    "#retrive the 1 st element\n",
    "print('First Element:',age[0])"
   ]
  },
  {
   "cell_type": "code",
   "execution_count": 34,
   "id": "5c1f6d03",
   "metadata": {},
   "outputs": [
    {
     "name": "stdout",
     "output_type": "stream",
     "text": [
      "a12 : 45\n",
      "second row: [62 74 55]\n"
     ]
    }
   ],
   "source": [
    "# CONSIDER a 2D array\n",
    "weight = np.array([(51,45,68),(62,74,55)])\n",
    "\n",
    "a12 = weight[0][1]\n",
    "print('a12 :',a12)\n",
    "\n",
    "print('second row:', weight[1,:])"
   ]
  },
  {
   "cell_type": "code",
   "execution_count": 35,
   "id": "8e20236f",
   "metadata": {},
   "outputs": [],
   "source": [
    "a1 = np.array([(10,20,30),(40,50,60),(70,80,90)])"
   ]
  },
  {
   "cell_type": "code",
   "execution_count": 36,
   "id": "d0515323",
   "metadata": {},
   "outputs": [
    {
     "data": {
      "text/plain": [
       "array([[40, 50],\n",
       "       [70, 80]])"
      ]
     },
     "execution_count": 36,
     "metadata": {},
     "output_type": "execute_result"
    }
   ],
   "source": [
    "a1[1:,:2]"
   ]
  },
  {
   "cell_type": "code",
   "execution_count": 37,
   "id": "05e59fd1",
   "metadata": {},
   "outputs": [],
   "source": [
    "#array filtering\n",
    "#array_name[array_name(>/</==)number]<---- filteration bracket\n",
    "#               |----> condition"
   ]
  },
  {
   "cell_type": "code",
   "execution_count": 38,
   "id": "e7dc2a8b",
   "metadata": {},
   "outputs": [
    {
     "name": "stdout",
     "output_type": "stream",
     "text": [
      "Boolean output: [False  True  True False False  True]\n"
     ]
    }
   ],
   "source": [
    "age = np.array([13,45,22,6,14,25])\n",
    "\n",
    "print('Boolean output:',age>18)"
   ]
  },
  {
   "cell_type": "code",
   "execution_count": 39,
   "id": "eac2e16f",
   "metadata": {},
   "outputs": [
    {
     "name": "stdout",
     "output_type": "stream",
     "text": [
      "age greater than 18: [45 22 25]\n"
     ]
    }
   ],
   "source": [
    "print('age greater than 18:',age[age>18])"
   ]
  },
  {
   "cell_type": "markdown",
   "id": "632faf2f",
   "metadata": {},
   "source": [
    "### arithmatic operations on array"
   ]
  },
  {
   "cell_type": "code",
   "execution_count": 42,
   "id": "840bf276",
   "metadata": {},
   "outputs": [],
   "source": [
    "odd_num = np.array([3,7,5,9])\n",
    "even_num = np.array([8,10,4,2])"
   ]
  },
  {
   "cell_type": "code",
   "execution_count": 43,
   "id": "a0c74ea0",
   "metadata": {},
   "outputs": [
    {
     "name": "stdout",
     "output_type": "stream",
     "text": [
      "Addition: [11 17  9 11]\n"
     ]
    }
   ],
   "source": [
    "sum = odd_num +even_num\n",
    "print('Addition:',sum)"
   ]
  },
  {
   "cell_type": "code",
   "execution_count": 44,
   "id": "e964e3d6",
   "metadata": {},
   "outputs": [
    {
     "name": "stdout",
     "output_type": "stream",
     "text": [
      "Subraction: [-5 -3  1  7]\n"
     ]
    }
   ],
   "source": [
    "sub = odd_num -even_num\n",
    "print('Subraction:',sub)"
   ]
  },
  {
   "cell_type": "code",
   "execution_count": 45,
   "id": "e53dd576",
   "metadata": {},
   "outputs": [
    {
     "name": "stdout",
     "output_type": "stream",
     "text": [
      "updated_array: [ 2  4  6  8 10]\n"
     ]
    }
   ],
   "source": [
    "num_array = np.array([1,2,3,4,5])\n",
    "print('updated_array:',num_array*2)"
   ]
  },
  {
   "cell_type": "code",
   "execution_count": 47,
   "id": "d63d0774",
   "metadata": {},
   "outputs": [],
   "source": [
    "num_matrix_1 = np.array([[1,0,2],[4,-2,3]])\n",
    "num_matrix_2 = np.array([[4,0,1],[2,3,0]])\n",
    "\n",
    "prod=num_matrix_1*num_matrix_2"
   ]
  },
  {
   "cell_type": "code",
   "execution_count": 48,
   "id": "eef35534",
   "metadata": {},
   "outputs": [
    {
     "name": "stdout",
     "output_type": "stream",
     "text": [
      "element wise multiplication:\n",
      " [[ 4  0  2]\n",
      " [ 8 -6  0]]\n"
     ]
    }
   ],
   "source": [
    "print('element wise multiplication:\\n',prod)"
   ]
  },
  {
   "cell_type": "markdown",
   "id": "7b51e065",
   "metadata": {},
   "source": [
    "### airthmatic functions"
   ]
  },
  {
   "cell_type": "code",
   "execution_count": 49,
   "id": "1e613f28",
   "metadata": {},
   "outputs": [
    {
     "name": "stdout",
     "output_type": "stream",
     "text": [
      "Minimum: 14\n"
     ]
    }
   ],
   "source": [
    "age = np.array([14,74,84,26,56])\n",
    "print(\"Minimum:\",age.min())"
   ]
  },
  {
   "cell_type": "code",
   "execution_count": 50,
   "id": "23a1e37f",
   "metadata": {},
   "outputs": [
    {
     "name": "stdout",
     "output_type": "stream",
     "text": [
      "Maximum: 84\n"
     ]
    }
   ],
   "source": [
    "age = np.array([14,74,84,26,56])\n",
    "print(\"Maximum:\",age.max())"
   ]
  },
  {
   "cell_type": "code",
   "execution_count": 51,
   "id": "fac659e2",
   "metadata": {},
   "outputs": [
    {
     "name": "stdout",
     "output_type": "stream",
     "text": [
      "sum of all elements 254\n"
     ]
    }
   ],
   "source": [
    "age = np.array([14,74,84,26,56])\n",
    "print(\"sum of all elements:\",age.sum())"
   ]
  },
  {
   "cell_type": "code",
   "execution_count": 53,
   "id": "91f71210",
   "metadata": {},
   "outputs": [
    {
     "name": "stdout",
     "output_type": "stream",
     "text": [
      "mean: 50.8\n"
     ]
    }
   ],
   "source": [
    "print(\"mean:\",age.mean())"
   ]
  },
  {
   "cell_type": "code",
   "execution_count": 55,
   "id": "87f2b4ee",
   "metadata": {},
   "outputs": [
    {
     "name": "stdout",
     "output_type": "stream",
     "text": [
      "Variance: 727.36\n"
     ]
    }
   ],
   "source": [
    "print(\"Variance:\",age.var())"
   ]
  },
  {
   "cell_type": "code",
   "execution_count": 56,
   "id": "7a038638",
   "metadata": {},
   "outputs": [
    {
     "name": "stdout",
     "output_type": "stream",
     "text": [
      "Standard deviation 26.969612529660118\n"
     ]
    }
   ],
   "source": [
    "print(\"Standard deviation\",age.std())"
   ]
  },
  {
   "cell_type": "code",
   "execution_count": 57,
   "id": "6a421db0",
   "metadata": {},
   "outputs": [
    {
     "name": "stdout",
     "output_type": "stream",
     "text": [
      "Square [ 196 5476 7056  676 3136]\n"
     ]
    }
   ],
   "source": [
    "print(\"Square\",np.square(age))---Squre matrix of age"
   ]
  },
  {
   "cell_type": "code",
   "execution_count": 58,
   "id": "ce4360eb",
   "metadata": {},
   "outputs": [
    {
     "name": "stdout",
     "output_type": "stream",
     "text": [
      "cube [  2744 405224 592704  17576 175616]\n"
     ]
    }
   ],
   "source": [
    "print(\"cube\",np.power(age,3))"
   ]
  },
  {
   "cell_type": "code",
   "execution_count": 59,
   "id": "37cac33a",
   "metadata": {},
   "outputs": [
    {
     "name": "stdout",
     "output_type": "stream",
     "text": [
      "4thPow: [   38416 29986576 49787136   456976  9834496]\n"
     ]
    }
   ],
   "source": [
    "print(\"4thPow:\",np.power(age,4))"
   ]
  },
  {
   "cell_type": "code",
   "execution_count": 60,
   "id": "901f906b",
   "metadata": {},
   "outputs": [
    {
     "ename": "NameError",
     "evalue": "name 'num_matrix' is not defined",
     "output_type": "error",
     "traceback": [
      "\u001b[1;31m---------------------------------------------------------------------------\u001b[0m",
      "\u001b[1;31mNameError\u001b[0m                                 Traceback (most recent call last)",
      "\u001b[1;32mC:\\Users\\MULTIM~1\\AppData\\Local\\Temp/ipykernel_15708/1546461089.py\u001b[0m in \u001b[0;36m<module>\u001b[1;34m\u001b[0m\n\u001b[1;32m----> 1\u001b[1;33m \u001b[0mnum_matrix\u001b[0m\u001b[1;33m\u001b[0m\u001b[1;33m\u001b[0m\u001b[0m\n\u001b[0m",
      "\u001b[1;31mNameError\u001b[0m: name 'num_matrix' is not defined"
     ]
    }
   ],
   "source": [
    "num_matrix"
   ]
  },
  {
   "cell_type": "code",
   "execution_count": 61,
   "id": "2e241c29",
   "metadata": {},
   "outputs": [
    {
     "name": "stdout",
     "output_type": "stream",
     "text": [
      "a1\t a12\t age\t even_num\t matrix_empty\t np\t num_array\t num_matrix_1\t num_matrix_2\t \n",
      "odd_num\t original_shape\t prod\t q\t reshaped_array\t sub\t sum\t weight\t weight_array\t \n",
      "\n"
     ]
    }
   ],
   "source": [
    "who"
   ]
  },
  {
   "cell_type": "code",
   "execution_count": 63,
   "id": "8f5d9a16",
   "metadata": {},
   "outputs": [
    {
     "data": {
      "text/plain": [
       "array([[ 1,  4],\n",
       "       [ 0, -2],\n",
       "       [ 2,  3]])"
      ]
     },
     "execution_count": 63,
     "metadata": {},
     "output_type": "execute_result"
    }
   ],
   "source": [
    "import pandas as py\n",
    "num_matrix_1.transpose()\n"
   ]
  },
  {
   "cell_type": "code",
   "execution_count": 67,
   "id": "d5ba485d",
   "metadata": {},
   "outputs": [
    {
     "data": {
      "text/plain": [
       "array([[ 1,  4],\n",
       "       [ 0, -2],\n",
       "       [ 2,  3]])"
      ]
     },
     "execution_count": 67,
     "metadata": {},
     "output_type": "execute_result"
    }
   ],
   "source": [
    "num_matrix_1.T"
   ]
  },
  {
   "cell_type": "markdown",
   "id": "91fe6b2b",
   "metadata": {},
   "source": [
    "### Concatinate a 1D array"
   ]
  },
  {
   "cell_type": "code",
   "execution_count": 68,
   "id": "b55f83cc",
   "metadata": {},
   "outputs": [
    {
     "data": {
      "text/plain": [
       "array([1, 4, 5, 7, 6, 9, 3, 2, 7, 5, 9])"
      ]
     },
     "execution_count": 68,
     "metadata": {},
     "output_type": "execute_result"
    }
   ],
   "source": [
    "order_1 = np.array([1,4,5,7])\n",
    "order_2 = np.array([6,9,3])\n",
    "order_3 = np.array([2,7,5,9])\n",
    "\n",
    "np.concatenate((order_1,order_2,order_3))"
   ]
  },
  {
   "cell_type": "code",
   "execution_count": 69,
   "id": "4f3e741c",
   "metadata": {},
   "outputs": [],
   "source": [
    "odd_array= np.array([[1,3],\n",
    "                     [5,7]])"
   ]
  },
  {
   "cell_type": "code",
   "execution_count": 70,
   "id": "3d454719",
   "metadata": {},
   "outputs": [],
   "source": [
    "even_array = np.array([[2,4],\n",
    "                       [6,8]])"
   ]
  },
  {
   "cell_type": "code",
   "execution_count": 75,
   "id": "e87595dc",
   "metadata": {},
   "outputs": [
    {
     "name": "stdout",
     "output_type": "stream",
     "text": [
      "concatinate row wise: [[1 3]\n",
      " [5 7]\n",
      " [2 4]\n",
      " [6 8]]\n"
     ]
    }
   ],
   "source": [
    "#concatinate along row wise\n",
    "print('concatinate row wise:',np.concatenate([odd_array,even_array]))"
   ]
  },
  {
   "cell_type": "code",
   "execution_count": 76,
   "id": "bd585ccb",
   "metadata": {},
   "outputs": [
    {
     "name": "stdout",
     "output_type": "stream",
     "text": [
      "concatinate column wise: [[1 3 2 4]\n",
      " [5 7 6 8]]\n"
     ]
    }
   ],
   "source": [
    "#concatinate column wise\n",
    "print('concatinate column wise:',np.concatenate([odd_array,even_array],axis=1))"
   ]
  },
  {
   "cell_type": "code",
   "execution_count": 4,
   "id": "f7be00fe",
   "metadata": {},
   "outputs": [],
   "source": [
    "def sam(n):\n",
    "    return ((abs(100 - n) <= 10) or (abs(200 - n) <= 10))"
   ]
  },
  {
   "cell_type": "code",
   "execution_count": 5,
   "id": "ea85f673",
   "metadata": {},
   "outputs": [
    {
     "data": {
      "text/plain": [
       "True"
      ]
     },
     "execution_count": 5,
     "metadata": {},
     "output_type": "execute_result"
    }
   ],
   "source": [
    "sam(90)"
   ]
  },
  {
   "cell_type": "code",
   "execution_count": 6,
   "id": "077fc8a0",
   "metadata": {},
   "outputs": [
    {
     "data": {
      "text/plain": [
       "False"
      ]
     },
     "execution_count": 6,
     "metadata": {},
     "output_type": "execute_result"
    }
   ],
   "source": [
    "sam(150)"
   ]
  },
  {
   "cell_type": "code",
   "execution_count": 7,
   "id": "a0fc12e2",
   "metadata": {},
   "outputs": [
    {
     "data": {
      "text/plain": [
       "True"
      ]
     },
     "execution_count": 7,
     "metadata": {},
     "output_type": "execute_result"
    }
   ],
   "source": [
    "sam(200)"
   ]
  },
  {
   "cell_type": "code",
   "execution_count": 8,
   "id": "5aed885d",
   "metadata": {},
   "outputs": [
    {
     "data": {
      "text/plain": [
       "True"
      ]
     },
     "execution_count": 8,
     "metadata": {},
     "output_type": "execute_result"
    }
   ],
   "source": [
    "sam(100)"
   ]
  },
  {
   "cell_type": "code",
   "execution_count": 9,
   "id": "43cab059",
   "metadata": {},
   "outputs": [
    {
     "name": "stdout",
     "output_type": "stream",
     "text": [
      "You are welcome to func\n"
     ]
    },
    {
     "ename": "NameError",
     "evalue": "name 'var' is not defined",
     "output_type": "error",
     "traceback": [
      "\u001b[1;31m---------------------------------------------------------------------------\u001b[0m",
      "\u001b[1;31mNameError\u001b[0m                                 Traceback (most recent call last)",
      "\u001b[1;32mC:\\Users\\MULTIM~1\\AppData\\Local\\Temp/ipykernel_14644/3634991325.py\u001b[0m in \u001b[0;36m<module>\u001b[1;34m\u001b[0m\n\u001b[0;32m      5\u001b[0m      \u001b[0mprint\u001b[0m\u001b[1;33m(\u001b[0m\u001b[0mvar\u001b[0m\u001b[1;33m)\u001b[0m\u001b[1;33m\u001b[0m\u001b[1;33m\u001b[0m\u001b[0m\n\u001b[0;32m      6\u001b[0m \u001b[1;33m\u001b[0m\u001b[0m\n\u001b[1;32m----> 7\u001b[1;33m \u001b[0mfunc\u001b[0m\u001b[1;33m(\u001b[0m\u001b[1;33m)\u001b[0m\u001b[1;33m\u001b[0m\u001b[1;33m\u001b[0m\u001b[0m\n\u001b[0m",
      "\u001b[1;32mC:\\Users\\MULTIM~1\\AppData\\Local\\Temp/ipykernel_14644/3634991325.py\u001b[0m in \u001b[0;36mfunc\u001b[1;34m()\u001b[0m\n\u001b[0;32m      3\u001b[0m      \u001b[0mprint\u001b[0m\u001b[1;33m(\u001b[0m\u001b[1;34m\"You are welcome to func\"\u001b[0m\u001b[1;33m)\u001b[0m\u001b[1;33m\u001b[0m\u001b[1;33m\u001b[0m\u001b[0m\n\u001b[0;32m      4\u001b[0m \u001b[1;33m\u001b[0m\u001b[0m\n\u001b[1;32m----> 5\u001b[1;33m      \u001b[0mprint\u001b[0m\u001b[1;33m(\u001b[0m\u001b[0mvar\u001b[0m\u001b[1;33m)\u001b[0m\u001b[1;33m\u001b[0m\u001b[1;33m\u001b[0m\u001b[0m\n\u001b[0m\u001b[0;32m      6\u001b[0m \u001b[1;33m\u001b[0m\u001b[0m\n\u001b[0;32m      7\u001b[0m \u001b[0mfunc\u001b[0m\u001b[1;33m(\u001b[0m\u001b[1;33m)\u001b[0m\u001b[1;33m\u001b[0m\u001b[1;33m\u001b[0m\u001b[0m\n",
      "\u001b[1;31mNameError\u001b[0m: name 'var' is not defined"
     ]
    }
   ],
   "source": [
    "def func():\n",
    "\n",
    "     print(\"You are welcome to func\")\n",
    "\n",
    "     print(var)\n",
    "\n",
    "func()"
   ]
  },
  {
   "cell_type": "code",
   "execution_count": 11,
   "id": "5a9cf64c",
   "metadata": {},
   "outputs": [
    {
     "data": {
      "text/plain": [
       "9996"
      ]
     },
     "execution_count": 11,
     "metadata": {},
     "output_type": "execute_result"
    }
   ],
   "source": [
    "min = (lambda x, y: x if x < y else y)\n",
    "\n",
    "min(101*99, 102*98)"
   ]
  },
  {
   "cell_type": "code",
   "execution_count": 12,
   "id": "87e5b5e1",
   "metadata": {},
   "outputs": [],
   "source": [
    "def random(text):\n",
    "\n",
    "      sample = text.split()\n",
    "\n",
    "      return sample[0][0] == sample[1][0]"
   ]
  },
  {
   "cell_type": "code",
   "execution_count": 13,
   "id": "de712663",
   "metadata": {},
   "outputs": [
    {
     "data": {
      "text/plain": [
       "True"
      ]
     },
     "execution_count": 13,
     "metadata": {},
     "output_type": "execute_result"
    }
   ],
   "source": [
    "random('false false')"
   ]
  },
  {
   "cell_type": "code",
   "execution_count": 14,
   "id": "e8f5a686",
   "metadata": {},
   "outputs": [
    {
     "data": {
      "text/plain": [
       "False"
      ]
     },
     "execution_count": 14,
     "metadata": {},
     "output_type": "execute_result"
    }
   ],
   "source": [
    "random('hi ih')"
   ]
  },
  {
   "cell_type": "code",
   "execution_count": 15,
   "id": "38e031b3",
   "metadata": {},
   "outputs": [
    {
     "data": {
      "text/plain": [
       "True"
      ]
     },
     "execution_count": 15,
     "metadata": {},
     "output_type": "execute_result"
    }
   ],
   "source": [
    "random('true true')"
   ]
  },
  {
   "cell_type": "code",
   "execution_count": 22,
   "id": "45c2a1b7",
   "metadata": {},
   "outputs": [],
   "source": [
    "def random(f):\n",
    "    print(type(f))\n",
    "    print('This is wrong')\n",
    "        \n",
    "\n",
    "def sample():\n",
    "\n",
    "      print('This is correct')\n"
   ]
  },
  {
   "cell_type": "code",
   "execution_count": 23,
   "id": "27439922",
   "metadata": {},
   "outputs": [
    {
     "name": "stdout",
     "output_type": "stream",
     "text": [
      "<class 'function'>\n",
      "This is wrong\n"
     ]
    }
   ],
   "source": [
    "ans = random(sample)\n",
    "\n",
    "ans"
   ]
  },
  {
   "cell_type": "code",
   "execution_count": 24,
   "id": "d020313a",
   "metadata": {},
   "outputs": [],
   "source": [
    "numbers = [1, 2, 3]"
   ]
  },
  {
   "cell_type": "code",
   "execution_count": 25,
   "id": "6d12e1ab",
   "metadata": {},
   "outputs": [
    {
     "data": {
      "text/plain": [
       "[2]"
      ]
     },
     "execution_count": 25,
     "metadata": {},
     "output_type": "execute_result"
    }
   ],
   "source": [
    "list(filter(lambda x: x % 2 == 0, numbers))"
   ]
  },
  {
   "cell_type": "code",
   "execution_count": 26,
   "id": "86999c94",
   "metadata": {},
   "outputs": [
    {
     "data": {
      "text/plain": [
       "[1, 2, 3]"
      ]
     },
     "execution_count": 26,
     "metadata": {},
     "output_type": "execute_result"
    }
   ],
   "source": [
    "list(filter(lambda x: 2, numbers))"
   ]
  },
  {
   "cell_type": "code",
   "execution_count": 27,
   "id": "81d18f30",
   "metadata": {},
   "outputs": [
    {
     "data": {
      "text/plain": [
       "[2, 3]"
      ]
     },
     "execution_count": 27,
     "metadata": {},
     "output_type": "execute_result"
    }
   ],
   "source": [
    "list(filter(lambda x: x > 1, numbers))"
   ]
  },
  {
   "cell_type": "code",
   "execution_count": 28,
   "id": "e46116ee",
   "metadata": {},
   "outputs": [
    {
     "name": "stdout",
     "output_type": "stream",
     "text": [
      "[('H', 1), ('E', 1), ('L', 1), ('L', 1), ('O', 1), (' ', 1), ('W', 1), ('O', 1), ('R', 1), ('L', 1), ('D', 1)]\n"
     ]
    }
   ],
   "source": [
    "my_string = \"hello world\"\n",
    "\n",
    "k = [(i.upper(), len(i)) for i in my_string]\n",
    "\n",
    "print(k)"
   ]
  },
  {
   "cell_type": "code",
   "execution_count": 1,
   "id": "7ca8d46d",
   "metadata": {},
   "outputs": [
    {
     "data": {
      "text/plain": [
       "4"
      ]
     },
     "execution_count": 1,
     "metadata": {},
     "output_type": "execute_result"
    }
   ],
   "source": [
    "19-15"
   ]
  },
  {
   "cell_type": "code",
   "execution_count": 2,
   "id": "afb4284d",
   "metadata": {},
   "outputs": [
    {
     "data": {
      "text/plain": [
       "25.0"
      ]
     },
     "execution_count": 2,
     "metadata": {},
     "output_type": "execute_result"
    }
   ],
   "source": [
    "19+(1.5*4)"
   ]
  },
  {
   "cell_type": "code",
   "execution_count": null,
   "id": "39bf6047",
   "metadata": {},
   "outputs": [],
   "source": []
  }
 ],
 "metadata": {
  "kernelspec": {
   "display_name": "Python 3 (ipykernel)",
   "language": "python",
   "name": "python3"
  },
  "language_info": {
   "codemirror_mode": {
    "name": "ipython",
    "version": 3
   },
   "file_extension": ".py",
   "mimetype": "text/x-python",
   "name": "python",
   "nbconvert_exporter": "python",
   "pygments_lexer": "ipython3",
   "version": "3.9.7"
  }
 },
 "nbformat": 4,
 "nbformat_minor": 5
}
