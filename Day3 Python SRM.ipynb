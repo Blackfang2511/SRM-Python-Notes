{
 "cells": [
  {
   "cell_type": "code",
   "execution_count": 1,
   "id": "2aa5be29",
   "metadata": {},
   "outputs": [
    {
     "name": "stdout",
     "output_type": "stream",
     "text": [
      "2\n",
      "3\n",
      "4\n"
     ]
    }
   ],
   "source": [
    "i =1;\n",
    "while(i<10):\n",
    "    i+=1;\n",
    "    if(i==5):\n",
    "        break\n",
    "    print(i);"
   ]
  },
  {
   "cell_type": "code",
   "execution_count": 3,
   "id": "62cf2159",
   "metadata": {},
   "outputs": [
    {
     "name": "stdout",
     "output_type": "stream",
     "text": [
      "1\n",
      "2\n",
      "3\n",
      "4\n",
      "5\n",
      "6\n",
      "7\n",
      "8\n",
      "9\n"
     ]
    }
   ],
   "source": [
    "i =1;\n",
    "while(i<10):\n",
    "    print(i);\n",
    "    i+=1;\n",
    "    if(i==5):\n",
    "        continue\n"
   ]
  },
  {
   "cell_type": "markdown",
   "id": "a02722a6",
   "metadata": {},
   "source": [
    "## In Built Function\n",
    "id()\n",
    "print()\n",
    "type()\n",
    "\n",
    "str()\n",
    "int()\n",
    "bool()\n",
    "float()\n",
    "\n",
    "input()\n",
    "\n",
    "len()\n",
    "min()\n",
    "max()"
   ]
  },
  {
   "cell_type": "code",
   "execution_count": 19,
   "id": "35d6c19b",
   "metadata": {},
   "outputs": [
    {
     "data": {
      "text/plain": [
       "5"
      ]
     },
     "execution_count": 19,
     "metadata": {},
     "output_type": "execute_result"
    }
   ],
   "source": [
    "prices = [10,20,30,40,50]\n",
    "text = \"Hello\"\n",
    "len(prices)"
   ]
  },
  {
   "cell_type": "code",
   "execution_count": 6,
   "id": "a64e7212",
   "metadata": {},
   "outputs": [
    {
     "data": {
      "text/plain": [
       "'H'"
      ]
     },
     "execution_count": 6,
     "metadata": {},
     "output_type": "execute_result"
    }
   ],
   "source": [
    "min(text)"
   ]
  },
  {
   "cell_type": "code",
   "execution_count": 7,
   "id": "549f2e06",
   "metadata": {},
   "outputs": [
    {
     "data": {
      "text/plain": [
       "'o'"
      ]
     },
     "execution_count": 7,
     "metadata": {},
     "output_type": "execute_result"
    }
   ],
   "source": [
    "max(text)"
   ]
  },
  {
   "cell_type": "code",
   "execution_count": 8,
   "id": "11ba8106",
   "metadata": {},
   "outputs": [
    {
     "data": {
      "text/plain": [
       "10"
      ]
     },
     "execution_count": 8,
     "metadata": {},
     "output_type": "execute_result"
    }
   ],
   "source": [
    "min(prices)"
   ]
  },
  {
   "cell_type": "code",
   "execution_count": 9,
   "id": "bb2b3551",
   "metadata": {},
   "outputs": [
    {
     "data": {
      "text/plain": [
       "50"
      ]
     },
     "execution_count": 9,
     "metadata": {},
     "output_type": "execute_result"
    }
   ],
   "source": [
    "max(prices)"
   ]
  },
  {
   "cell_type": "code",
   "execution_count": 20,
   "id": "dbc3032b",
   "metadata": {},
   "outputs": [],
   "source": [
    "del prices; #deletes the list price"
   ]
  },
  {
   "cell_type": "code",
   "execution_count": 22,
   "id": "48b293a9",
   "metadata": {},
   "outputs": [
    {
     "ename": "NameError",
     "evalue": "name 'prices' is not defined",
     "output_type": "error",
     "traceback": [
      "\u001b[1;31m---------------------------------------------------------------------------\u001b[0m",
      "\u001b[1;31mNameError\u001b[0m                                 Traceback (most recent call last)",
      "\u001b[1;32mC:\\Users\\MULTIM~1\\AppData\\Local\\Temp/ipykernel_11500/3393862992.py\u001b[0m in \u001b[0;36m<module>\u001b[1;34m\u001b[0m\n\u001b[1;32m----> 1\u001b[1;33m \u001b[0mprices\u001b[0m \u001b[1;31m# since deleted the variable will not be defined\u001b[0m\u001b[1;33m\u001b[0m\u001b[1;33m\u001b[0m\u001b[0m\n\u001b[0m",
      "\u001b[1;31mNameError\u001b[0m: name 'prices' is not defined"
     ]
    }
   ],
   "source": [
    "prices # since deleted the variable will not be defined"
   ]
  },
  {
   "cell_type": "code",
   "execution_count": 40,
   "id": "921940ba",
   "metadata": {},
   "outputs": [],
   "source": [
    "prices =[[20,30],[40,50],[60,70],[80,90]]\n",
    "new_price =[]"
   ]
  },
  {
   "cell_type": "code",
   "execution_count": 42,
   "id": "4a0a0fd6",
   "metadata": {},
   "outputs": [],
   "source": [
    "for i in prices:\n",
    "    new_price.append(i[0])\n",
    "    new_price.append(i[1])"
   ]
  },
  {
   "cell_type": "code",
   "execution_count": 43,
   "id": "2ab2290c",
   "metadata": {},
   "outputs": [
    {
     "name": "stdout",
     "output_type": "stream",
     "text": [
      "[20, 30, 40, 50, 60, 70, 80, 90]\n"
     ]
    }
   ],
   "source": [
    "print(new_price)"
   ]
  },
  {
   "cell_type": "code",
   "execution_count": 44,
   "id": "7ab03fdb",
   "metadata": {},
   "outputs": [
    {
     "data": {
      "text/plain": [
       "[11, 22, 99, 88, 77]"
      ]
     },
     "execution_count": 44,
     "metadata": {},
     "output_type": "execute_result"
    }
   ],
   "source": [
    "a = [11,22]\n",
    "b = [99,88,77]\n",
    "c = a+b\n",
    "c"
   ]
  },
  {
   "cell_type": "code",
   "execution_count": 46,
   "id": "d30dd11a",
   "metadata": {},
   "outputs": [
    {
     "name": "stdout",
     "output_type": "stream",
     "text": [
      "[20, 30, 40, 50, 60, 70, 80, 90]\n"
     ]
    }
   ],
   "source": [
    "new = []\n",
    "for i in prices:\n",
    "    new = new+i;\n",
    "print(new)"
   ]
  },
  {
   "cell_type": "code",
   "execution_count": 9,
   "id": "e0f13c7c",
   "metadata": {},
   "outputs": [],
   "source": [
    "items = [[\"Apple\",35],[45,\"Oranges\"],[\"Kiwi\",\"Avo\",56]]"
   ]
  },
  {
   "cell_type": "code",
   "execution_count": 4,
   "id": "14fff3da",
   "metadata": {},
   "outputs": [
    {
     "name": "stdout",
     "output_type": "stream",
     "text": [
      "[['Apple', 35], [45, 'Oranges'], ['Kiwi', 'Avo', 56]]\n"
     ]
    }
   ],
   "source": [
    "print(items)"
   ]
  },
  {
   "cell_type": "code",
   "execution_count": 23,
   "id": "92035219",
   "metadata": {},
   "outputs": [
    {
     "name": "stdout",
     "output_type": "stream",
     "text": [
      "[35, 45, 56]\n"
     ]
    }
   ],
   "source": [
    "nlist = [];\n",
    "for i in items:\n",
    "    for z in i:\n",
    "        if(isinstance(z,int)):\n",
    "            nlist.append(z)\n",
    "print(nlist)        \n"
   ]
  },
  {
   "cell_type": "code",
   "execution_count": 1,
   "id": "d557bb02",
   "metadata": {},
   "outputs": [],
   "source": [
    "l_prices = [11,33,11,77,88]\n",
    "t_prices = (11,33,11,77,88)"
   ]
  },
  {
   "cell_type": "code",
   "execution_count": 2,
   "id": "4018a918",
   "metadata": {},
   "outputs": [
    {
     "data": {
      "text/plain": [
       "list"
      ]
     },
     "execution_count": 2,
     "metadata": {},
     "output_type": "execute_result"
    }
   ],
   "source": [
    "type(l_prices)"
   ]
  },
  {
   "cell_type": "code",
   "execution_count": 3,
   "id": "993acdc0",
   "metadata": {},
   "outputs": [
    {
     "data": {
      "text/plain": [
       "list"
      ]
     },
     "execution_count": 3,
     "metadata": {},
     "output_type": "execute_result"
    }
   ],
   "source": [
    "type(l_prices)"
   ]
  },
  {
   "cell_type": "code",
   "execution_count": 4,
   "id": "55999b38",
   "metadata": {},
   "outputs": [],
   "source": [
    "prices = (10,20,30,45,18,17)"
   ]
  },
  {
   "cell_type": "code",
   "execution_count": 5,
   "id": "1e562290",
   "metadata": {},
   "outputs": [
    {
     "data": {
      "text/plain": [
       "(20, 30, 45)"
      ]
     },
     "execution_count": 5,
     "metadata": {},
     "output_type": "execute_result"
    }
   ],
   "source": [
    "prices[1:4]"
   ]
  },
  {
   "cell_type": "code",
   "execution_count": 6,
   "id": "75620098",
   "metadata": {},
   "outputs": [
    {
     "data": {
      "text/plain": [
       "17"
      ]
     },
     "execution_count": 6,
     "metadata": {},
     "output_type": "execute_result"
    }
   ],
   "source": [
    "prices[-1]"
   ]
  },
  {
   "cell_type": "code",
   "execution_count": 7,
   "id": "54645d54",
   "metadata": {},
   "outputs": [
    {
     "data": {
      "text/plain": [
       "(30, 45)"
      ]
     },
     "execution_count": 7,
     "metadata": {},
     "output_type": "execute_result"
    }
   ],
   "source": [
    "prices[-4:-2]"
   ]
  },
  {
   "cell_type": "code",
   "execution_count": 8,
   "id": "6d4a2a6b",
   "metadata": {},
   "outputs": [
    {
     "data": {
      "text/plain": [
       "tuple"
      ]
     },
     "execution_count": 8,
     "metadata": {},
     "output_type": "execute_result"
    }
   ],
   "source": [
    "type(prices[-4:-2])"
   ]
  },
  {
   "cell_type": "code",
   "execution_count": 9,
   "id": "07ce574b",
   "metadata": {},
   "outputs": [],
   "source": [
    "items = (\"oranges\",35, \"Apples\",67)"
   ]
  },
  {
   "cell_type": "markdown",
   "id": "ce99ff07",
   "metadata": {},
   "source": [
    "## Tuples of tuples"
   ]
  },
  {
   "cell_type": "code",
   "execution_count": 12,
   "id": "541f782d",
   "metadata": {},
   "outputs": [],
   "source": [
    "items = ((\"A\",56),(\"B\",\"C\"),(\"D\",67),(90,\"E\",\"F\"))"
   ]
  },
  {
   "cell_type": "code",
   "execution_count": 13,
   "id": "5f0972d5",
   "metadata": {},
   "outputs": [
    {
     "name": "stdout",
     "output_type": "stream",
     "text": [
      "('A', 56)\n",
      "('B', 'C')\n",
      "('D', 67)\n",
      "(90, 'E', 'F')\n"
     ]
    }
   ],
   "source": [
    "for i in items:\n",
    "    print(i)"
   ]
  },
  {
   "cell_type": "code",
   "execution_count": 14,
   "id": "e1601048",
   "metadata": {},
   "outputs": [
    {
     "data": {
      "text/plain": [
       "tuple"
      ]
     },
     "execution_count": 14,
     "metadata": {},
     "output_type": "execute_result"
    }
   ],
   "source": [
    "prices = [10,20]\n",
    "t_prices = tuple(prices)\n",
    "type(t_prices)"
   ]
  },
  {
   "cell_type": "code",
   "execution_count": 15,
   "id": "b2ba9be6",
   "metadata": {},
   "outputs": [
    {
     "data": {
      "text/plain": [
       "list"
      ]
     },
     "execution_count": 15,
     "metadata": {},
     "output_type": "execute_result"
    }
   ],
   "source": [
    "items =(\"apple\",\"grape\")\n",
    "l_items = list(items)\n",
    "type(l_items)"
   ]
  },
  {
   "cell_type": "markdown",
   "id": "90028f42",
   "metadata": {},
   "source": [
    "### we can also have list of tuples OR Tuple of lists"
   ]
  },
  {
   "cell_type": "code",
   "execution_count": 16,
   "id": "3f72359e",
   "metadata": {},
   "outputs": [],
   "source": [
    "#consider the given list\n",
    "#[(45,90),(10,35),(45,65),(55,55)]\n",
    "\n",
    "#get a output\n",
    "[(45, 90, 135), (10, 35, 45), (45, 65, 110), (55, 55, 110)]"
   ]
  },
  {
   "cell_type": "code",
   "execution_count": 59,
   "id": "3f8222b5",
   "metadata": {},
   "outputs": [
    {
     "name": "stdout",
     "output_type": "stream",
     "text": [
      "[(45, 90, 135), (10, 35, 45), (45, 65, 110), (55, 55, 110)]\n"
     ]
    }
   ],
   "source": [
    "list_a =[(45,90),(10,35),(45,65),(55,55)]\n",
    "new = []\n",
    "\n",
    "for i in list_a:\n",
    "    sum = i[0]+i[1]\n",
    "    new.append((i[0],i[1],sum))\n",
    "print(new)\n",
    "                    "
   ]
  },
  {
   "cell_type": "code",
   "execution_count": 55,
   "id": "1ed8a159",
   "metadata": {},
   "outputs": [
    {
     "data": {
      "text/plain": [
       "list"
      ]
     },
     "execution_count": 55,
     "metadata": {},
     "output_type": "execute_result"
    }
   ],
   "source": [
    "type(new)"
   ]
  },
  {
   "cell_type": "code",
   "execution_count": 61,
   "id": "87619ffd",
   "metadata": {},
   "outputs": [
    {
     "name": "stdout",
     "output_type": "stream",
     "text": [
      "[[45, 90, 135], [10, 35, 45], [45, 65, 110], [55, 55, 110]]\n"
     ]
    }
   ],
   "source": [
    "list_a =[(45,90),(10,35),(45,65),(55,55)]\n",
    "new = []\n",
    "\n",
    "for i in list_a:\n",
    "    sum = i[0]+i[1]\n",
    "    new.append([i[0],i[1],sum])\n",
    "print(new)"
   ]
  },
  {
   "cell_type": "markdown",
   "id": "c54c361b",
   "metadata": {},
   "source": [
    "### Sets\n",
    "\n",
    "initialized using {}"
   ]
  },
  {
   "cell_type": "code",
   "execution_count": 65,
   "id": "e90d5ea5",
   "metadata": {},
   "outputs": [
    {
     "data": {
      "text/plain": [
       "set"
      ]
     },
     "execution_count": 65,
     "metadata": {},
     "output_type": "execute_result"
    }
   ],
   "source": [
    "prices = {10,20,30}\n",
    "type(prices)"
   ]
  },
  {
   "cell_type": "code",
   "execution_count": 66,
   "id": "5afa12d9",
   "metadata": {},
   "outputs": [],
   "source": [
    "#use the set() function to convert the given list to a set\n",
    "#print both list and set\n"
   ]
  },
  {
   "cell_type": "code",
   "execution_count": 67,
   "id": "a1595e34",
   "metadata": {},
   "outputs": [],
   "source": [
    "prices = [11,22,22,22,33,44,11,55,55,66]\n",
    "pnew = set(prices)"
   ]
  },
  {
   "cell_type": "code",
   "execution_count": 68,
   "id": "1376b37f",
   "metadata": {},
   "outputs": [
    {
     "name": "stdout",
     "output_type": "stream",
     "text": [
      "[11, 22, 22, 22, 33, 44, 11, 55, 55, 66]\n",
      "{33, 66, 11, 44, 22, 55}\n"
     ]
    }
   ],
   "source": [
    "print(prices)\n",
    "print(pnew)"
   ]
  },
  {
   "cell_type": "code",
   "execution_count": 72,
   "id": "6fdbd22b",
   "metadata": {},
   "outputs": [],
   "source": [
    "a = {10,20,30,40,50,60}\n",
    "b = {11,22,33,40,44,50,55,66}"
   ]
  },
  {
   "cell_type": "code",
   "execution_count": 73,
   "id": "bec1222f",
   "metadata": {},
   "outputs": [
    {
     "data": {
      "text/plain": [
       "{10, 11, 20, 22, 30, 33, 40, 44, 50, 55, 60, 66}"
      ]
     },
     "execution_count": 73,
     "metadata": {},
     "output_type": "execute_result"
    }
   ],
   "source": [
    "a.union(b)"
   ]
  },
  {
   "cell_type": "code",
   "execution_count": 74,
   "id": "3e80f71f",
   "metadata": {},
   "outputs": [
    {
     "data": {
      "text/plain": [
       "{40, 50}"
      ]
     },
     "execution_count": 74,
     "metadata": {},
     "output_type": "execute_result"
    }
   ],
   "source": [
    "a.intersection(b)"
   ]
  },
  {
   "cell_type": "code",
   "execution_count": 78,
   "id": "20da0a4f",
   "metadata": {},
   "outputs": [
    {
     "data": {
      "text/plain": [
       "{10, 11, 20, 22, 30, 33, 44, 55, 60, 66}"
      ]
     },
     "execution_count": 78,
     "metadata": {},
     "output_type": "execute_result"
    }
   ],
   "source": [
    "a.symmetric_difference(b)"
   ]
  },
  {
   "cell_type": "code",
   "execution_count": 79,
   "id": "e65a563f",
   "metadata": {},
   "outputs": [
    {
     "data": {
      "text/plain": [
       "{10, 20, 30, 60}"
      ]
     },
     "execution_count": 79,
     "metadata": {},
     "output_type": "execute_result"
    }
   ],
   "source": [
    "a.difference(b)"
   ]
  },
  {
   "cell_type": "code",
   "execution_count": 80,
   "id": "314d39ae",
   "metadata": {},
   "outputs": [
    {
     "data": {
      "text/plain": [
       "{11, 22, 33, 44, 55, 66}"
      ]
     },
     "execution_count": 80,
     "metadata": {},
     "output_type": "execute_result"
    }
   ],
   "source": [
    "b.difference(a)"
   ]
  },
  {
   "cell_type": "code",
   "execution_count": 85,
   "id": "8799534c",
   "metadata": {},
   "outputs": [
    {
     "name": "stdout",
     "output_type": "stream",
     "text": [
      "{50, 40, 10, 60, 30}\n"
     ]
    }
   ],
   "source": [
    "a = {10,20,30,40,50,60}\n",
    "a.discard(20)\n",
    "print(a)"
   ]
  },
  {
   "cell_type": "code",
   "execution_count": 86,
   "id": "21001dc2",
   "metadata": {},
   "outputs": [
    {
     "data": {
      "text/plain": [
       "{10, 30, 40, 60}"
      ]
     },
     "execution_count": 86,
     "metadata": {},
     "output_type": "execute_result"
    }
   ],
   "source": [
    "a.pop()\n",
    "a"
   ]
  },
  {
   "cell_type": "code",
   "execution_count": 87,
   "id": "103855e3",
   "metadata": {},
   "outputs": [
    {
     "data": {
      "text/plain": [
       "{10, 30, 40, 60, 99}"
      ]
     },
     "execution_count": 87,
     "metadata": {},
     "output_type": "execute_result"
    }
   ],
   "source": [
    "a.add(99)\n",
    "a"
   ]
  },
  {
   "cell_type": "code",
   "execution_count": 88,
   "id": "e49d3547",
   "metadata": {},
   "outputs": [],
   "source": [
    "#consider the string \"ABRACADABRA\"\n",
    "#remove duplicate"
   ]
  },
  {
   "cell_type": "code",
   "execution_count": 97,
   "id": "25053959",
   "metadata": {},
   "outputs": [],
   "source": [
    "text = \"ABRACADABRA\";\n",
    "set1= set(text);\n",
    "text2 = str(set1);\n",
    "a = text2.index('{')\n",
    "b = text2.index('}')"
   ]
  },
  {
   "cell_type": "code",
   "execution_count": 106,
   "id": "423f5c08",
   "metadata": {},
   "outputs": [],
   "source": [
    "newtext= \" \";\n",
    "for i in text:\n",
    "    if(i not in newtext):\n",
    "        newtext+=i;\n",
    "    "
   ]
  },
  {
   "cell_type": "code",
   "execution_count": 107,
   "id": "b25bf7c4",
   "metadata": {},
   "outputs": [
    {
     "data": {
      "text/plain": [
       "' ABRCD'"
      ]
     },
     "execution_count": 107,
     "metadata": {},
     "output_type": "execute_result"
    }
   ],
   "source": [
    "newtext"
   ]
  },
  {
   "cell_type": "markdown",
   "id": "f3f44c96",
   "metadata": {},
   "source": [
    "## Dictionary"
   ]
  },
  {
   "cell_type": "code",
   "execution_count": 108,
   "id": "a00e8eef",
   "metadata": {},
   "outputs": [],
   "source": [
    "#create a dictionary with {}\n",
    "#Key:Value\n",
    "products={\"Apple\":100,\"Oranges\":35}"
   ]
  },
  {
   "cell_type": "code",
   "execution_count": 110,
   "id": "158374b0",
   "metadata": {},
   "outputs": [
    {
     "data": {
      "text/plain": [
       "100"
      ]
     },
     "execution_count": 110,
     "metadata": {},
     "output_type": "execute_result"
    }
   ],
   "source": [
    "products[\"Apple\"]"
   ]
  },
  {
   "cell_type": "raw",
   "id": "0999925a",
   "metadata": {},
   "source": [
    "To create a empty objects use below\n",
    "a=list()\n",
    "b=tuple()\n",
    "set()\n",
    "dict()"
   ]
  },
  {
   "cell_type": "code",
   "execution_count": 130,
   "id": "3bea023f",
   "metadata": {},
   "outputs": [],
   "source": [
    "emp = {1:\"John\",\"Age\":23,\"Salary\":10000,\"Gender\":\"Male\"}"
   ]
  },
  {
   "cell_type": "code",
   "execution_count": 113,
   "id": "8b2b9925",
   "metadata": {},
   "outputs": [
    {
     "data": {
      "text/plain": [
       "'John'"
      ]
     },
     "execution_count": 113,
     "metadata": {},
     "output_type": "execute_result"
    }
   ],
   "source": [
    "emp[1]"
   ]
  },
  {
   "cell_type": "code",
   "execution_count": 114,
   "id": "108129b0",
   "metadata": {},
   "outputs": [
    {
     "data": {
      "text/plain": [
       "dict_values(['John', 23, 10000, 'Male'])"
      ]
     },
     "execution_count": 114,
     "metadata": {},
     "output_type": "execute_result"
    }
   ],
   "source": [
    "emp.values()"
   ]
  },
  {
   "cell_type": "code",
   "execution_count": 115,
   "id": "c13fe514",
   "metadata": {},
   "outputs": [
    {
     "data": {
      "text/plain": [
       "dict_keys([1, 'Age', 'Salary', 'Gender'])"
      ]
     },
     "execution_count": 115,
     "metadata": {},
     "output_type": "execute_result"
    }
   ],
   "source": [
    "emp.keys()"
   ]
  },
  {
   "cell_type": "code",
   "execution_count": 116,
   "id": "b0f8b322",
   "metadata": {},
   "outputs": [
    {
     "data": {
      "text/plain": [
       "dict_items([(1, 'John'), ('Age', 23), ('Salary', 10000), ('Gender', 'Male')])"
      ]
     },
     "execution_count": 116,
     "metadata": {},
     "output_type": "execute_result"
    }
   ],
   "source": [
    "emp.items()"
   ]
  },
  {
   "cell_type": "code",
   "execution_count": 117,
   "id": "bf3282a8",
   "metadata": {},
   "outputs": [
    {
     "data": {
      "text/plain": [
       "[(1, 'John'), ('Age', 23), ('Salary', 10000), ('Gender', 'Male')]"
      ]
     },
     "execution_count": 117,
     "metadata": {},
     "output_type": "execute_result"
    }
   ],
   "source": [
    "list(emp.items())"
   ]
  },
  {
   "cell_type": "code",
   "execution_count": 118,
   "id": "43240cee",
   "metadata": {},
   "outputs": [
    {
     "data": {
      "text/plain": [
       "23"
      ]
     },
     "execution_count": 118,
     "metadata": {},
     "output_type": "execute_result"
    }
   ],
   "source": [
    "emp[\"Age\"]"
   ]
  },
  {
   "cell_type": "code",
   "execution_count": 119,
   "id": "15ad6771",
   "metadata": {},
   "outputs": [
    {
     "data": {
      "text/plain": [
       "{1: 'John', 'Age': 45, 'Salary': 10000, 'Gender': 'Male'}"
      ]
     },
     "execution_count": 119,
     "metadata": {},
     "output_type": "execute_result"
    }
   ],
   "source": [
    "emp[\"Age\"]=45\n",
    "emp"
   ]
  },
  {
   "cell_type": "code",
   "execution_count": 131,
   "id": "cbd84384",
   "metadata": {},
   "outputs": [
    {
     "data": {
      "text/plain": [
       "{1: 'John',\n",
       " 'Age': 23,\n",
       " 'Salary': 10000,\n",
       " 'Gender': 'Male',\n",
       " 'Location': 'Chennai'}"
      ]
     },
     "execution_count": 131,
     "metadata": {},
     "output_type": "execute_result"
    }
   ],
   "source": [
    "emp[\"Location\"]=\"Chennai\"\n",
    "emp"
   ]
  },
  {
   "cell_type": "code",
   "execution_count": 129,
   "id": "a315983c",
   "metadata": {},
   "outputs": [
    {
     "data": {
      "text/plain": [
       "{1: 'John', 'Age': 45, 'Salary': 10000, 'Location': 'Chennai'}"
      ]
     },
     "execution_count": 129,
     "metadata": {},
     "output_type": "execute_result"
    }
   ],
   "source": [
    "emp.pop(\"Gender\")\n",
    "emp"
   ]
  },
  {
   "cell_type": "code",
   "execution_count": 132,
   "id": "3dce28a7",
   "metadata": {},
   "outputs": [
    {
     "data": {
      "text/plain": [
       "{1: 'John', 'Age': 23, 'Salary': 10000, 'Location': 'Chennai'}"
      ]
     },
     "execution_count": 132,
     "metadata": {},
     "output_type": "execute_result"
    }
   ],
   "source": [
    "del emp['Gender']\n",
    "emp"
   ]
  },
  {
   "cell_type": "code",
   "execution_count": 133,
   "id": "919a8304",
   "metadata": {},
   "outputs": [
    {
     "name": "stdout",
     "output_type": "stream",
     "text": [
      "John\n",
      "23\n",
      "10000\n",
      "Chennai\n"
     ]
    }
   ],
   "source": [
    "for i in emp.values():\n",
    "    print(i)"
   ]
  },
  {
   "cell_type": "code",
   "execution_count": 135,
   "id": "4d2742c1",
   "metadata": {},
   "outputs": [
    {
     "name": "stdout",
     "output_type": "stream",
     "text": [
      "1\n",
      "Age\n",
      "Salary\n",
      "Location\n"
     ]
    }
   ],
   "source": [
    "for i in emp.keys():\n",
    "    print(i)"
   ]
  },
  {
   "cell_type": "code",
   "execution_count": 137,
   "id": "5b17d823",
   "metadata": {},
   "outputs": [
    {
     "name": "stdout",
     "output_type": "stream",
     "text": [
      "(1, 'John')\n",
      "('Age', 23)\n",
      "('Salary', 10000)\n",
      "('Location', 'Chennai')\n"
     ]
    }
   ],
   "source": [
    "for i in emp.items():\n",
    "    print(i)"
   ]
  },
  {
   "cell_type": "code",
   "execution_count": 138,
   "id": "9fd9e414",
   "metadata": {},
   "outputs": [
    {
     "name": "stdout",
     "output_type": "stream",
     "text": [
      "Key is  1 And Value is John\n",
      "Key is  Age And Value is 23\n",
      "Key is  Salary And Value is 10000\n",
      "Key is  Location And Value is Chennai\n"
     ]
    }
   ],
   "source": [
    "for k,v in emp.items():\n",
    "    print(\"Key is \",k,\"And Value is\",v)"
   ]
  },
  {
   "cell_type": "markdown",
   "id": "cad7047e",
   "metadata": {},
   "source": [
    "#### in calss"
   ]
  },
  {
   "cell_type": "code",
   "execution_count": 139,
   "id": "2a275a14",
   "metadata": {},
   "outputs": [],
   "source": [
    "#consider the below text:\n",
    "#\"I feel happy I feel healthy i gfeel terrific\"\n",
    "#create a dictionary with words from above sentence as keys and number of occurance as values"
   ]
  },
  {
   "cell_type": "code",
   "execution_count": 145,
   "id": "12c69de6",
   "metadata": {},
   "outputs": [
    {
     "data": {
      "text/plain": [
       "{'I': 3, 'feel': 3, 'happy': 1, 'healthy': 1, 'terrific': 1}"
      ]
     },
     "execution_count": 145,
     "metadata": {},
     "output_type": "execute_result"
    }
   ],
   "source": [
    "dict1=dict()\n",
    "str1=\"I feel happy I feel healthy I feel terrific\"\n",
    "str2=str1.split(\" \")\n",
    "\n",
    "for i in str2:\n",
    "    if(i not in dict1):\n",
    "        dict1[i] = 1\n",
    "    else:\n",
    "        dict1[i] = dict1[i]+1;\n",
    "        \n",
    "dict1"
   ]
  },
  {
   "cell_type": "code",
   "execution_count": 148,
   "id": "e91a3ab1",
   "metadata": {},
   "outputs": [
    {
     "data": {
      "text/plain": [
       "{'I': 3, 'feel': 3, 'happy': 1, 'healthy': 1, 'terrific': 1}"
      ]
     },
     "execution_count": 148,
     "metadata": {},
     "output_type": "execute_result"
    }
   ],
   "source": [
    "dict2=dict()\n",
    "str1=\"I feel happy I feel healthy I feel terrific\"\n",
    "str2=str1.split(\" \")\n",
    "\n",
    "for i in str2:\n",
    "    if(i not in dict2.keys()):\n",
    "        dict2[i] = 1\n",
    "    else:\n",
    "        dict2[i] = dict2[i]+1;\n",
    "        \n",
    "dict2"
   ]
  },
  {
   "cell_type": "code",
   "execution_count": 149,
   "id": "321b4982",
   "metadata": {},
   "outputs": [],
   "source": [
    "items=[\"pen\",\"pencil\",\"book\",\"ruler\"]\n",
    "prices = [100,200,345,187]\n"
   ]
  },
  {
   "cell_type": "code",
   "execution_count": 154,
   "id": "8cda2732",
   "metadata": {},
   "outputs": [],
   "source": [
    "dict3= dict()\n",
    "\n",
    "for i in range(len(items)):\n",
    "    dict3[items[i]]=prices[i]\n",
    "        "
   ]
  },
  {
   "cell_type": "code",
   "execution_count": 155,
   "id": "08539ba0",
   "metadata": {},
   "outputs": [
    {
     "data": {
      "text/plain": [
       "{'pen': 100, 'pencil': 200, 'book': 345, 'ruler': 187}"
      ]
     },
     "execution_count": 155,
     "metadata": {},
     "output_type": "execute_result"
    }
   ],
   "source": [
    "dict3"
   ]
  },
  {
   "cell_type": "code",
   "execution_count": null,
   "id": "078f1e3f",
   "metadata": {},
   "outputs": [],
   "source": []
  }
 ],
 "metadata": {
  "kernelspec": {
   "display_name": "Python 3 (ipykernel)",
   "language": "python",
   "name": "python3"
  },
  "language_info": {
   "codemirror_mode": {
    "name": "ipython",
    "version": 3
   },
   "file_extension": ".py",
   "mimetype": "text/x-python",
   "name": "python",
   "nbconvert_exporter": "python",
   "pygments_lexer": "ipython3",
   "version": "3.9.7"
  }
 },
 "nbformat": 4,
 "nbformat_minor": 5
}
