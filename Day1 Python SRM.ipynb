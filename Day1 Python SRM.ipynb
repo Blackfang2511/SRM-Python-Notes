{
 "cells": [
  {
   "cell_type": "code",
   "execution_count": null,
   "id": "170d2b68",
   "metadata": {},
   "outputs": [],
   "source": []
  },
  {
   "cell_type": "code",
   "execution_count": 1,
   "id": "f68c3077",
   "metadata": {},
   "outputs": [
    {
     "data": {
      "text/plain": [
       "11"
      ]
     },
     "execution_count": 1,
     "metadata": {},
     "output_type": "execute_result"
    }
   ],
   "source": [
    "5 + 6 "
   ]
  },
  {
   "cell_type": "code",
   "execution_count": 2,
   "id": "703f3f05",
   "metadata": {},
   "outputs": [],
   "source": [
    "#this is a python code to add two numbers\n"
   ]
  },
  {
   "cell_type": "code",
   "execution_count": 3,
   "id": "8c507789",
   "metadata": {},
   "outputs": [
    {
     "data": {
      "text/plain": [
       "5"
      ]
     },
     "execution_count": 3,
     "metadata": {},
     "output_type": "execute_result"
    }
   ],
   "source": [
    "7-2\n",
    "#this is a python code to subract two numbers"
   ]
  },
  {
   "cell_type": "markdown",
   "id": "685e9cd2",
   "metadata": {},
   "source": [
    "This cell is a mark down and used for title or inferences\n"
   ]
  },
  {
   "cell_type": "markdown",
   "id": "5aedc12c",
   "metadata": {},
   "source": [
    "#This is to increase font size add #"
   ]
  },
  {
   "cell_type": "markdown",
   "id": "f744f80a",
   "metadata": {},
   "source": [
    "#to increase font size add hash"
   ]
  },
  {
   "cell_type": "markdown",
   "id": "2e623a38",
   "metadata": {},
   "source": [
    "# SRM\n"
   ]
  },
  {
   "cell_type": "markdown",
   "id": "e0763459",
   "metadata": {},
   "source": [
    "## SRM"
   ]
  },
  {
   "cell_type": "code",
   "execution_count": 1,
   "id": "749dff52",
   "metadata": {},
   "outputs": [],
   "source": [
    "age = 10"
   ]
  },
  {
   "cell_type": "code",
   "execution_count": 2,
   "id": "707fa631",
   "metadata": {},
   "outputs": [
    {
     "data": {
      "text/plain": [
       "2289278085712"
      ]
     },
     "execution_count": 2,
     "metadata": {},
     "output_type": "execute_result"
    }
   ],
   "source": [
    "id(age)"
   ]
  },
  {
   "cell_type": "code",
   "execution_count": 3,
   "id": "cabe170f",
   "metadata": {},
   "outputs": [],
   "source": [
    "age = 12"
   ]
  },
  {
   "cell_type": "code",
   "execution_count": 4,
   "id": "6b7263e9",
   "metadata": {},
   "outputs": [
    {
     "data": {
      "text/plain": [
       "2289278085776"
      ]
     },
     "execution_count": 4,
     "metadata": {},
     "output_type": "execute_result"
    }
   ],
   "source": [
    "id(age)"
   ]
  },
  {
   "cell_type": "code",
   "execution_count": 1,
   "id": "e00643f5",
   "metadata": {},
   "outputs": [
    {
     "name": "stdout",
     "output_type": "stream",
     "text": [
      "enter a numberjyjyjy\n"
     ]
    },
    {
     "data": {
      "text/plain": [
       "'jyjyjy'"
      ]
     },
     "execution_count": 1,
     "metadata": {},
     "output_type": "execute_result"
    }
   ],
   "source": [
    "input(\"enter a number\")"
   ]
  },
  {
   "cell_type": "code",
   "execution_count": 2,
   "id": "37c808b3",
   "metadata": {},
   "outputs": [],
   "source": [
    "age = 10"
   ]
  },
  {
   "cell_type": "code",
   "execution_count": 3,
   "id": "03d4ca99",
   "metadata": {},
   "outputs": [
    {
     "data": {
      "text/plain": [
       "int"
      ]
     },
     "execution_count": 3,
     "metadata": {},
     "output_type": "execute_result"
    }
   ],
   "source": [
    "type(age)"
   ]
  },
  {
   "cell_type": "markdown",
   "id": "2975bf50",
   "metadata": {},
   "source": [
    "# Functions are written in ()\n"
   ]
  },
  {
   "cell_type": "code",
   "execution_count": 4,
   "id": "a89a4bc3",
   "metadata": {},
   "outputs": [],
   "source": [
    "price = 65"
   ]
  },
  {
   "cell_type": "code",
   "execution_count": 5,
   "id": "724595a0",
   "metadata": {},
   "outputs": [
    {
     "data": {
      "text/plain": [
       "65"
      ]
     },
     "execution_count": 5,
     "metadata": {},
     "output_type": "execute_result"
    }
   ],
   "source": [
    "price"
   ]
  },
  {
   "cell_type": "code",
   "execution_count": 6,
   "id": "3ada43e9",
   "metadata": {},
   "outputs": [],
   "source": [
    "value = \"65\""
   ]
  },
  {
   "cell_type": "code",
   "execution_count": 7,
   "id": "f7f0a060",
   "metadata": {},
   "outputs": [
    {
     "data": {
      "text/plain": [
       "'65'"
      ]
     },
     "execution_count": 7,
     "metadata": {},
     "output_type": "execute_result"
    }
   ],
   "source": [
    "value"
   ]
  },
  {
   "cell_type": "code",
   "execution_count": 8,
   "id": "c372554a",
   "metadata": {},
   "outputs": [
    {
     "data": {
      "text/plain": [
       "65"
      ]
     },
     "execution_count": 8,
     "metadata": {},
     "output_type": "execute_result"
    }
   ],
   "source": [
    "#value is converted but not stored\n",
    "int(value)"
   ]
  },
  {
   "cell_type": "code",
   "execution_count": 9,
   "id": "984c3c04",
   "metadata": {},
   "outputs": [],
   "source": [
    "# value is converted and stored in i_value\n",
    "i_value = int(value)"
   ]
  },
  {
   "cell_type": "code",
   "execution_count": 10,
   "id": "55b5a64a",
   "metadata": {},
   "outputs": [
    {
     "data": {
      "text/plain": [
       "'65'"
      ]
     },
     "execution_count": 10,
     "metadata": {},
     "output_type": "execute_result"
    }
   ],
   "source": [
    "value"
   ]
  },
  {
   "cell_type": "code",
   "execution_count": 11,
   "id": "4f5a6651",
   "metadata": {},
   "outputs": [
    {
     "data": {
      "text/plain": [
       "65"
      ]
     },
     "execution_count": 11,
     "metadata": {},
     "output_type": "execute_result"
    }
   ],
   "source": [
    "i_value"
   ]
  },
  {
   "cell_type": "code",
   "execution_count": 12,
   "id": "bdd430bd",
   "metadata": {},
   "outputs": [],
   "source": [
    "# cannot convert string with a name to integer\n",
    "name = \"john\""
   ]
  },
  {
   "cell_type": "code",
   "execution_count": 13,
   "id": "bc932e81",
   "metadata": {},
   "outputs": [
    {
     "ename": "ValueError",
     "evalue": "invalid literal for int() with base 10: 'john'",
     "output_type": "error",
     "traceback": [
      "\u001b[1;31m---------------------------------------------------------------------------\u001b[0m",
      "\u001b[1;31mValueError\u001b[0m                                Traceback (most recent call last)",
      "\u001b[1;32mC:\\Users\\MULTIM~1\\AppData\\Local\\Temp/ipykernel_11228/1879335602.py\u001b[0m in \u001b[0;36m<module>\u001b[1;34m\u001b[0m\n\u001b[1;32m----> 1\u001b[1;33m \u001b[0mint\u001b[0m\u001b[1;33m(\u001b[0m\u001b[0mname\u001b[0m\u001b[1;33m)\u001b[0m\u001b[1;33m\u001b[0m\u001b[1;33m\u001b[0m\u001b[0m\n\u001b[0m",
      "\u001b[1;31mValueError\u001b[0m: invalid literal for int() with base 10: 'john'"
     ]
    }
   ],
   "source": [
    "int(name)"
   ]
  },
  {
   "cell_type": "code",
   "execution_count": 14,
   "id": "a6ea0adb",
   "metadata": {},
   "outputs": [],
   "source": [
    "tax = 10\n",
    "s_tax = str(tax)"
   ]
  },
  {
   "cell_type": "code",
   "execution_count": 15,
   "id": "90d77441",
   "metadata": {},
   "outputs": [
    {
     "data": {
      "text/plain": [
       "int"
      ]
     },
     "execution_count": 15,
     "metadata": {},
     "output_type": "execute_result"
    }
   ],
   "source": [
    "type(tax)"
   ]
  },
  {
   "cell_type": "code",
   "execution_count": 16,
   "id": "698d1ae8",
   "metadata": {},
   "outputs": [
    {
     "data": {
      "text/plain": [
       "str"
      ]
     },
     "execution_count": 16,
     "metadata": {},
     "output_type": "execute_result"
    }
   ],
   "source": [
    "type(s_tax)"
   ]
  },
  {
   "cell_type": "code",
   "execution_count": 17,
   "id": "a5fafdce",
   "metadata": {},
   "outputs": [],
   "source": [
    "f_tax = float(tax)"
   ]
  },
  {
   "cell_type": "code",
   "execution_count": 18,
   "id": "8f90d856",
   "metadata": {},
   "outputs": [
    {
     "data": {
      "text/plain": [
       "10.0"
      ]
     },
     "execution_count": 18,
     "metadata": {},
     "output_type": "execute_result"
    }
   ],
   "source": [
    "f_tax"
   ]
  },
  {
   "cell_type": "code",
   "execution_count": 19,
   "id": "465ea7e3",
   "metadata": {},
   "outputs": [],
   "source": [
    "price =23.95\n",
    "i_price = int(price)"
   ]
  },
  {
   "cell_type": "code",
   "execution_count": 20,
   "id": "8c8d9ecc",
   "metadata": {},
   "outputs": [
    {
     "data": {
      "text/plain": [
       "23"
      ]
     },
     "execution_count": 20,
     "metadata": {},
     "output_type": "execute_result"
    }
   ],
   "source": [
    "i_price"
   ]
  },
  {
   "cell_type": "code",
   "execution_count": 21,
   "id": "c4358581",
   "metadata": {},
   "outputs": [],
   "source": [
    "is_teacher = True\n",
    "is_player = False"
   ]
  },
  {
   "cell_type": "code",
   "execution_count": 22,
   "id": "79f2783d",
   "metadata": {},
   "outputs": [
    {
     "data": {
      "text/plain": [
       "bool"
      ]
     },
     "execution_count": 22,
     "metadata": {},
     "output_type": "execute_result"
    }
   ],
   "source": [
    "type(is_player)"
   ]
  },
  {
   "cell_type": "code",
   "execution_count": 23,
   "id": "96a012f1",
   "metadata": {},
   "outputs": [
    {
     "data": {
      "text/plain": [
       "1"
      ]
     },
     "execution_count": 23,
     "metadata": {},
     "output_type": "execute_result"
    }
   ],
   "source": [
    "is_teacher+is_player"
   ]
  },
  {
   "cell_type": "code",
   "execution_count": 24,
   "id": "1f8fd547",
   "metadata": {},
   "outputs": [],
   "source": [
    "name=\"\""
   ]
  },
  {
   "cell_type": "code",
   "execution_count": 25,
   "id": "004f4770",
   "metadata": {},
   "outputs": [
    {
     "data": {
      "text/plain": [
       "False"
      ]
     },
     "execution_count": 25,
     "metadata": {},
     "output_type": "execute_result"
    }
   ],
   "source": [
    "bool (name)"
   ]
  },
  {
   "cell_type": "code",
   "execution_count": 26,
   "id": "61e9c36c",
   "metadata": {},
   "outputs": [],
   "source": [
    "age = 19\n",
    "price =19.95\n",
    "temp = -8\n",
    "name= \"Henry\""
   ]
  },
  {
   "cell_type": "code",
   "execution_count": 27,
   "id": "d82da6a7",
   "metadata": {},
   "outputs": [
    {
     "data": {
      "text/plain": [
       "True"
      ]
     },
     "execution_count": 27,
     "metadata": {},
     "output_type": "execute_result"
    }
   ],
   "source": [
    "bool(age)"
   ]
  },
  {
   "cell_type": "code",
   "execution_count": 28,
   "id": "0c811c74",
   "metadata": {},
   "outputs": [
    {
     "data": {
      "text/plain": [
       "True"
      ]
     },
     "execution_count": 28,
     "metadata": {},
     "output_type": "execute_result"
    }
   ],
   "source": [
    "bool(price)"
   ]
  },
  {
   "cell_type": "code",
   "execution_count": 29,
   "id": "7675d4bc",
   "metadata": {},
   "outputs": [
    {
     "name": "stdout",
     "output_type": "stream",
     "text": [
      "20\n"
     ]
    }
   ],
   "source": [
    "price = int(input())"
   ]
  },
  {
   "cell_type": "code",
   "execution_count": 30,
   "id": "22e6e2bf",
   "metadata": {},
   "outputs": [
    {
     "data": {
      "text/plain": [
       "28"
      ]
     },
     "execution_count": 30,
     "metadata": {},
     "output_type": "execute_result"
    }
   ],
   "source": [
    "price-temp\n"
   ]
  },
  {
   "cell_type": "markdown",
   "id": "f2caedef",
   "metadata": {},
   "source": [
    "# Arithmetic Operators"
   ]
  },
  {
   "cell_type": "code",
   "execution_count": 31,
   "id": "412baa7c",
   "metadata": {},
   "outputs": [
    {
     "data": {
      "text/plain": [
       "112.5"
      ]
     },
     "execution_count": 31,
     "metadata": {},
     "output_type": "execute_result"
    }
   ],
   "source": [
    "price = 100;\n",
    "tax = 12.5;\n",
    "total = price +tax;\n",
    "total"
   ]
  },
  {
   "cell_type": "code",
   "execution_count": 34,
   "id": "9d7c63a4",
   "metadata": {},
   "outputs": [],
   "source": [
    "fname = \"Shabarish \";\n",
    "lname = \"V S\"\n",
    "tname = fname+lname;"
   ]
  },
  {
   "cell_type": "code",
   "execution_count": 35,
   "id": "b830423f",
   "metadata": {},
   "outputs": [
    {
     "data": {
      "text/plain": [
       "'Shabarish V S'"
      ]
     },
     "execution_count": 35,
     "metadata": {},
     "output_type": "execute_result"
    }
   ],
   "source": [
    "tname"
   ]
  },
  {
   "cell_type": "code",
   "execution_count": 37,
   "id": "c6125745",
   "metadata": {},
   "outputs": [
    {
     "data": {
      "text/plain": [
       "'20 ABC Road'"
      ]
     },
     "execution_count": 37,
     "metadata": {},
     "output_type": "execute_result"
    }
   ],
   "source": [
    "raddress = 20\n",
    "rname = \"ABC Road\"\n",
    "#convert integer to string\n",
    "fulladdress = str(raddress)+\" \"+rname;\n",
    "fulladdress"
   ]
  },
  {
   "cell_type": "code",
   "execution_count": 38,
   "id": "0fea23a2",
   "metadata": {},
   "outputs": [
    {
     "data": {
      "text/plain": [
       "87.5"
      ]
     },
     "execution_count": 38,
     "metadata": {},
     "output_type": "execute_result"
    }
   ],
   "source": [
    "price = 100;\n",
    "tax = 12.5;\n",
    "total = price - tax;\n",
    "total"
   ]
  },
  {
   "cell_type": "code",
   "execution_count": 39,
   "id": "abad0166",
   "metadata": {},
   "outputs": [
    {
     "ename": "TypeError",
     "evalue": "unsupported operand type(s) for -: 'str' and 'str'",
     "output_type": "error",
     "traceback": [
      "\u001b[1;31m---------------------------------------------------------------------------\u001b[0m",
      "\u001b[1;31mTypeError\u001b[0m                                 Traceback (most recent call last)",
      "\u001b[1;32mC:\\Users\\MULTIM~1\\AppData\\Local\\Temp/ipykernel_11228/1693663493.py\u001b[0m in \u001b[0;36m<module>\u001b[1;34m\u001b[0m\n\u001b[0;32m      1\u001b[0m \u001b[0mfname\u001b[0m \u001b[1;33m=\u001b[0m \u001b[1;34m\"Shabarish \"\u001b[0m\u001b[1;33m;\u001b[0m\u001b[1;33m\u001b[0m\u001b[1;33m\u001b[0m\u001b[0m\n\u001b[0;32m      2\u001b[0m \u001b[0mlname\u001b[0m \u001b[1;33m=\u001b[0m \u001b[1;34m\"V S\"\u001b[0m\u001b[1;33m\u001b[0m\u001b[1;33m\u001b[0m\u001b[0m\n\u001b[1;32m----> 3\u001b[1;33m \u001b[0mtname\u001b[0m \u001b[1;33m=\u001b[0m \u001b[0mfname\u001b[0m \u001b[1;33m-\u001b[0m \u001b[0mlname\u001b[0m\u001b[1;33m;\u001b[0m\u001b[1;33m\u001b[0m\u001b[1;33m\u001b[0m\u001b[0m\n\u001b[0m",
      "\u001b[1;31mTypeError\u001b[0m: unsupported operand type(s) for -: 'str' and 'str'"
     ]
    }
   ],
   "source": [
    "fname = \"Shabarish \";\n",
    "lname = \"V S\"\n",
    "tname = fname - lname;"
   ]
  },
  {
   "cell_type": "code",
   "execution_count": 40,
   "id": "1e5829f1",
   "metadata": {},
   "outputs": [
    {
     "data": {
      "text/plain": [
       "9000.0"
      ]
     },
     "execution_count": 40,
     "metadata": {},
     "output_type": "execute_result"
    }
   ],
   "source": [
    "price = 9.0\n",
    "qty = 1000\n",
    "total = price*qty;\n",
    "total"
   ]
  },
  {
   "cell_type": "code",
   "execution_count": 41,
   "id": "93ba7762",
   "metadata": {},
   "outputs": [
    {
     "data": {
      "text/plain": [
       "3.142857142857143"
      ]
     },
     "execution_count": 41,
     "metadata": {},
     "output_type": "execute_result"
    }
   ],
   "source": [
    "22/7"
   ]
  },
  {
   "cell_type": "code",
   "execution_count": 44,
   "id": "8599a94a",
   "metadata": {},
   "outputs": [
    {
     "data": {
      "text/plain": [
       "3"
      ]
     },
     "execution_count": 44,
     "metadata": {},
     "output_type": "execute_result"
    }
   ],
   "source": [
    "int(22/7)"
   ]
  },
  {
   "cell_type": "markdown",
   "id": "839b0eb4",
   "metadata": {},
   "source": [
    "# Relational operators\n",
    "return true or false"
   ]
  },
  {
   "cell_type": "raw",
   "id": "04b7a8b5",
   "metadata": {},
   "source": [
    "<\n",
    ">\n",
    "<=\n",
    ">=\n",
    "==\n",
    "!="
   ]
  },
  {
   "cell_type": "code",
   "execution_count": 53,
   "id": "efdf9537",
   "metadata": {},
   "outputs": [],
   "source": [
    "tom_age = 18\n",
    "terry_age = 18"
   ]
  },
  {
   "cell_type": "code",
   "execution_count": 50,
   "id": "99230cad",
   "metadata": {},
   "outputs": [
    {
     "data": {
      "text/plain": [
       "True"
      ]
     },
     "execution_count": 50,
     "metadata": {},
     "output_type": "execute_result"
    }
   ],
   "source": [
    "tom_age == terry_age"
   ]
  },
  {
   "cell_type": "code",
   "execution_count": 47,
   "id": "16e06b63",
   "metadata": {},
   "outputs": [
    {
     "data": {
      "text/plain": [
       "True"
      ]
     },
     "execution_count": 47,
     "metadata": {},
     "output_type": "execute_result"
    }
   ],
   "source": [
    "tom_age < terry_age"
   ]
  },
  {
   "cell_type": "code",
   "execution_count": 54,
   "id": "c23346b8",
   "metadata": {},
   "outputs": [
    {
     "data": {
      "text/plain": [
       "False"
      ]
     },
     "execution_count": 54,
     "metadata": {},
     "output_type": "execute_result"
    }
   ],
   "source": [
    "tom_age != terry_age"
   ]
  },
  {
   "cell_type": "markdown",
   "id": "36268674",
   "metadata": {},
   "source": [
    "## Logical Operators"
   ]
  },
  {
   "cell_type": "raw",
   "id": "4f3cd6ac",
   "metadata": {},
   "source": [
    "&& --> AND\n",
    "|| --> OR"
   ]
  },
  {
   "cell_type": "markdown",
   "id": "ea81ee32",
   "metadata": {},
   "source": [
    "# Membership operator"
   ]
  },
  {
   "cell_type": "code",
   "execution_count": 56,
   "id": "f4a79dd5",
   "metadata": {},
   "outputs": [
    {
     "data": {
      "text/plain": [
       "False"
      ]
     },
     "execution_count": 56,
     "metadata": {},
     "output_type": "execute_result"
    }
   ],
   "source": [
    "place = \"potheri\"\n",
    "\"C\" in place"
   ]
  },
  {
   "cell_type": "code",
   "execution_count": 57,
   "id": "5baddc14",
   "metadata": {},
   "outputs": [
    {
     "data": {
      "text/plain": [
       "True"
      ]
     },
     "execution_count": 57,
     "metadata": {},
     "output_type": "execute_result"
    }
   ],
   "source": [
    "\"eri\" in place"
   ]
  },
  {
   "cell_type": "markdown",
   "id": "bff55edd",
   "metadata": {},
   "source": [
    "## Conditional Statement"
   ]
  },
  {
   "cell_type": "code",
   "execution_count": 58,
   "id": "2b3dc57b",
   "metadata": {},
   "outputs": [
    {
     "name": "stdout",
     "output_type": "stream",
     "text": [
      "potheri\n"
     ]
    }
   ],
   "source": [
    "if(place == \"potheri\"):\n",
    "    print(place)"
   ]
  },
  {
   "cell_type": "code",
   "execution_count": 59,
   "id": "6271a4d7",
   "metadata": {},
   "outputs": [
    {
     "name": "stdout",
     "output_type": "stream",
     "text": [
      "potheri\n",
      "Shabarish \n",
      "If excuted\n",
      "i am independent\n"
     ]
    }
   ],
   "source": [
    "if(place == \"potheri\"):\n",
    "    print(place)\n",
    "    print(fname)\n",
    "    print(\"If excuted\")\n",
    "print(\"i am independent\")"
   ]
  },
  {
   "cell_type": "code",
   "execution_count": 60,
   "id": "ad85979e",
   "metadata": {},
   "outputs": [
    {
     "name": "stdout",
     "output_type": "stream",
     "text": [
      "i am independent\n"
     ]
    }
   ],
   "source": [
    "place = \"chennai\"\n",
    "if(place == \"potheri\"):\n",
    "    print(place)\n",
    "    print(fname)\n",
    "    print(\"If excuted\")\n",
    "print(\"i am independent\")"
   ]
  },
  {
   "cell_type": "code",
   "execution_count": 61,
   "id": "85ebe3f9",
   "metadata": {},
   "outputs": [
    {
     "data": {
      "text/plain": [
       "19"
      ]
     },
     "execution_count": 61,
     "metadata": {},
     "output_type": "execute_result"
    }
   ],
   "source": [
    "age"
   ]
  },
  {
   "cell_type": "code",
   "execution_count": 62,
   "id": "03f84c16",
   "metadata": {},
   "outputs": [
    {
     "name": "stdout",
     "output_type": "stream",
     "text": [
      "You are eligible for addmission\n"
     ]
    }
   ],
   "source": [
    "if(age<30):\n",
    "    print(\"You are eligible for addmission\")\n",
    "else:\n",
    "    print(\"You are not eligible for addmission\")"
   ]
  },
  {
   "cell_type": "code",
   "execution_count": 67,
   "id": "9ab16960",
   "metadata": {},
   "outputs": [
    {
     "name": "stdout",
     "output_type": "stream",
     "text": [
      "Fare is $5\n"
     ]
    }
   ],
   "source": [
    "age=10\n",
    "if(age<5):\n",
    "    print(\"NO FARE\");\n",
    "elif(5<age<=10):\n",
    "    print(\"Fare is $5\")\n",
    "elif(10<age<15):\n",
    "    print(\"Fare is $7\")\n",
    "else:\n",
    "    print(\"Fare is $10\")\n",
    "    "
   ]
  },
  {
   "cell_type": "markdown",
   "id": "e0807c22",
   "metadata": {},
   "source": [
    "## Basic String Handling"
   ]
  },
  {
   "cell_type": "code",
   "execution_count": 68,
   "id": "ccbbfc7b",
   "metadata": {},
   "outputs": [],
   "source": [
    "text = \"Great Learnig\""
   ]
  },
  {
   "cell_type": "code",
   "execution_count": 69,
   "id": "9882d953",
   "metadata": {},
   "outputs": [
    {
     "data": {
      "text/plain": [
       "'G'"
      ]
     },
     "execution_count": 69,
     "metadata": {},
     "output_type": "execute_result"
    }
   ],
   "source": [
    "text[0]"
   ]
  },
  {
   "cell_type": "code",
   "execution_count": 70,
   "id": "bc8f326b",
   "metadata": {},
   "outputs": [
    {
     "data": {
      "text/plain": [
       "6"
      ]
     },
     "execution_count": 70,
     "metadata": {},
     "output_type": "execute_result"
    }
   ],
   "source": [
    "text.index('L')"
   ]
  },
  {
   "cell_type": "code",
   "execution_count": 71,
   "id": "ed3e696c",
   "metadata": {},
   "outputs": [
    {
     "data": {
      "text/plain": [
       "'L'"
      ]
     },
     "execution_count": 71,
     "metadata": {},
     "output_type": "execute_result"
    }
   ],
   "source": [
    "text[6]"
   ]
  },
  {
   "cell_type": "code",
   "execution_count": 74,
   "id": "aba6bfea",
   "metadata": {},
   "outputs": [
    {
     "data": {
      "text/plain": [
       "'Great'"
      ]
     },
     "execution_count": 74,
     "metadata": {},
     "output_type": "execute_result"
    }
   ],
   "source": [
    "text[0:5]"
   ]
  },
  {
   "cell_type": "code",
   "execution_count": 75,
   "id": "d6b35b8c",
   "metadata": {},
   "outputs": [
    {
     "data": {
      "text/plain": [
       "'Great Lear'"
      ]
     },
     "execution_count": 75,
     "metadata": {},
     "output_type": "execute_result"
    }
   ],
   "source": [
    "text[0:10]"
   ]
  },
  {
   "cell_type": "code",
   "execution_count": 76,
   "id": "f3640e92",
   "metadata": {},
   "outputs": [
    {
     "data": {
      "text/plain": [
       "'GaLrn'"
      ]
     },
     "execution_count": 76,
     "metadata": {},
     "output_type": "execute_result"
    }
   ],
   "source": [
    "# signature text[start:stop:step]\n",
    "text[0:13:3]"
   ]
  },
  {
   "cell_type": "code",
   "execution_count": 77,
   "id": "6472e609",
   "metadata": {},
   "outputs": [
    {
     "data": {
      "text/plain": [
       "'Gtan'"
      ]
     },
     "execution_count": 77,
     "metadata": {},
     "output_type": "execute_result"
    }
   ],
   "source": [
    "text[0:13:4]"
   ]
  },
  {
   "cell_type": "code",
   "execution_count": 78,
   "id": "1043e3e4",
   "metadata": {},
   "outputs": [
    {
     "data": {
      "text/plain": [
       "'Great Learnin'"
      ]
     },
     "execution_count": 78,
     "metadata": {},
     "output_type": "execute_result"
    }
   ],
   "source": [
    "text[0:13:]"
   ]
  },
  {
   "cell_type": "code",
   "execution_count": 83,
   "id": "2ee9acbc",
   "metadata": {},
   "outputs": [],
   "source": [
    "text= \"apple\""
   ]
  },
  {
   "cell_type": "code",
   "execution_count": 84,
   "id": "3288cee1",
   "metadata": {},
   "outputs": [
    {
     "data": {
      "text/plain": [
       "'app'"
      ]
     },
     "execution_count": 84,
     "metadata": {},
     "output_type": "execute_result"
    }
   ],
   "source": [
    "text[-5:-2]"
   ]
  },
  {
   "cell_type": "code",
   "execution_count": 85,
   "id": "12287b89",
   "metadata": {},
   "outputs": [
    {
     "data": {
      "text/plain": [
       "''"
      ]
     },
     "execution_count": 85,
     "metadata": {},
     "output_type": "execute_result"
    }
   ],
   "source": [
    "text[-0:-5]"
   ]
  },
  {
   "cell_type": "code",
   "execution_count": null,
   "id": "42b72598",
   "metadata": {},
   "outputs": [],
   "source": []
  }
 ],
 "metadata": {
  "kernelspec": {
   "display_name": "Python 3 (ipykernel)",
   "language": "python",
   "name": "python3"
  },
  "language_info": {
   "codemirror_mode": {
    "name": "ipython",
    "version": 3
   },
   "file_extension": ".py",
   "mimetype": "text/x-python",
   "name": "python",
   "nbconvert_exporter": "python",
   "pygments_lexer": "ipython3",
   "version": "3.9.7"
  }
 },
 "nbformat": 4,
 "nbformat_minor": 5
}
